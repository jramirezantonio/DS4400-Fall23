{
 "cells": [
  {
   "cell_type": "code",
   "execution_count": 2,
   "id": "970badde",
   "metadata": {
    "scrolled": true
   },
   "outputs": [
    {
     "name": "stdout",
     "output_type": "stream",
     "text": [
      ".. _diabetes_dataset:\n",
      "\n",
      "Diabetes dataset\n",
      "----------------\n",
      "\n",
      "Ten baseline variables, age, sex, body mass index, average blood\n",
      "pressure, and six blood serum measurements were obtained for each of n =\n",
      "442 diabetes patients, as well as the response of interest, a\n",
      "quantitative measure of disease progression one year after baseline.\n",
      "\n",
      "**Data Set Characteristics:**\n",
      "\n",
      "  :Number of Instances: 442\n",
      "\n",
      "  :Number of Attributes: First 10 columns are numeric predictive values\n",
      "\n",
      "  :Target: Column 11 is a quantitative measure of disease progression one year after baseline\n",
      "\n",
      "  :Attribute Information:\n",
      "      - age     age in years\n",
      "      - sex\n",
      "      - bmi     body mass index\n",
      "      - bp      average blood pressure\n",
      "      - s1      tc, total serum cholesterol\n",
      "      - s2      ldl, low-density lipoproteins\n",
      "      - s3      hdl, high-density lipoproteins\n",
      "      - s4      tch, total cholesterol / HDL\n",
      "      - s5      ltg, possibly log of serum triglycerides level\n",
      "      - s6      glu, blood sugar level\n",
      "\n",
      "Note: Each of these 10 feature variables have been mean centered and scaled by the standard deviation times the square root of `n_samples` (i.e. the sum of squares of each column totals 1).\n",
      "\n",
      "Source URL:\n",
      "https://www4.stat.ncsu.edu/~boos/var.select/diabetes.html\n",
      "\n",
      "For more information see:\n",
      "Bradley Efron, Trevor Hastie, Iain Johnstone and Robert Tibshirani (2004) \"Least Angle Regression,\" Annals of Statistics (with discussion), 407-499.\n",
      "(https://web.stanford.edu/~hastie/Papers/LARS/LeastAngle_2002.pdf)\n",
      "\n"
     ]
    }
   ],
   "source": [
    "from sklearn.datasets import load_diabetes\n",
    "data = load_diabetes()\n",
    "X, y = data.data, data.target\n",
    "print(data.DESCR)"
   ]
  },
  {
   "cell_type": "code",
   "execution_count": 28,
   "id": "294f449f",
   "metadata": {},
   "outputs": [
    {
     "data": {
      "text/plain": [
       "-0.13776722569000302"
      ]
     },
     "execution_count": 28,
     "metadata": {},
     "output_type": "execute_result"
    }
   ],
   "source": [
    "min([min(data['data'][i]) for i in range(442)])"
   ]
  },
  {
   "cell_type": "markdown",
   "id": "3bf5a94c",
   "metadata": {},
   "source": [
    "This dataset is about patients with diabetes. It's a dictionary consisting of 8 keys with only 3 of these being relevant for our purposes. The important keys are 'data', 'target', and 'DESCR'. The 'data' key contains a list with information of 442 different patients, and some of the information includes attributes such as age, sex, etc. The 'target' key contains another list of size 442 containing the target feature for each patient, and this target feature is a quantitative measure of disease progression one year after baseline. The first plot I'd generate for the EDA is a pairplot to see if there are any correlations of any of the numeric predictive values with the target values. From there I'd take a closer look at specific scatterplots for interesting variables that show some relationship between them. In order to pre-process the data I'd first convert the first two lists of the dict into a dataframe, then I'd look for any NaN values, do necessary steps if any exist, and lastly I'd normalize my data and make sure I deal with any potential outliers"
   ]
  },
  {
   "cell_type": "code",
   "execution_count": null,
   "id": "2d4908a1",
   "metadata": {},
   "outputs": [],
   "source": []
  }
 ],
 "metadata": {
  "kernelspec": {
   "display_name": "Python 3 (ipykernel)",
   "language": "python",
   "name": "python3"
  },
  "language_info": {
   "codemirror_mode": {
    "name": "ipython",
    "version": 3
   },
   "file_extension": ".py",
   "mimetype": "text/x-python",
   "name": "python",
   "nbconvert_exporter": "python",
   "pygments_lexer": "ipython3",
   "version": "3.10.11"
  }
 },
 "nbformat": 4,
 "nbformat_minor": 5
}

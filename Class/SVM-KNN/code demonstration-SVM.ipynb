{
 "cells": [
  {
   "cell_type": "markdown",
   "id": "29a48450",
   "metadata": {},
   "source": [
    "## Support vector machine in Python and practical considerations\n",
    "\n",
    "In the lecture we have introduced a new machine learning technique, support vector machine. Here is a quick summary of its characteristics. \n",
    "\n",
    "- SVM(SVR) can be used for both Classification(binary or more) and Regression problems.\n",
    "- It is designed as a linear separator but can implement Kernels to achieve non-linear decision boundary line.\n",
    "- May need to tune the hyper-parameters\n",
    "- Good for the data with large number of features but large number of observations may still slow it down. \n",
    "\n",
    "In this code demostration, we will highlight a couple of things when you apply SVM to real life models, including:\n",
    "\n",
    "- Fit and evaluate SVM performance (accuracy, precision, recall, F1 score, and mean square error)\n",
    "- Data preprocessing and feature scaling.\n",
    "- Hyperparameter tuning and methods for model selection.\n",
    "- Imbalanced datasets.\n"
   ]
  },
  {
   "cell_type": "markdown",
   "id": "00ffe033",
   "metadata": {},
   "source": [
    "#### Example 1: Iris dataset"
   ]
  },
  {
   "cell_type": "code",
   "execution_count": 1,
   "id": "7f178f5d",
   "metadata": {},
   "outputs": [
    {
     "name": "stdout",
     "output_type": "stream",
     "text": [
      ".. _iris_dataset:\n",
      "\n",
      "Iris plants dataset\n",
      "--------------------\n",
      "\n",
      "**Data Set Characteristics:**\n",
      "\n",
      "    :Number of Instances: 150 (50 in each of three classes)\n",
      "    :Number of Attributes: 4 numeric, predictive attributes and the class\n",
      "    :Attribute Information:\n",
      "        - sepal length in cm\n",
      "        - sepal width in cm\n",
      "        - petal length in cm\n",
      "        - petal width in cm\n",
      "        - class:\n",
      "                - Iris-Setosa\n",
      "                - Iris-Versicolour\n",
      "                - Iris-Virginica\n",
      "                \n",
      "    :Summary Statistics:\n",
      "\n",
      "    ============== ==== ==== ======= ===== ====================\n",
      "                    Min  Max   Mean    SD   Class Correlation\n",
      "    ============== ==== ==== ======= ===== ====================\n",
      "    sepal length:   4.3  7.9   5.84   0.83    0.7826\n",
      "    sepal width:    2.0  4.4   3.05   0.43   -0.4194\n",
      "    petal length:   1.0  6.9   3.76   1.76    0.9490  (high!)\n",
      "    petal width:    0.1  2.5   1.20   0.76    0.9565  (high!)\n",
      "    ============== ==== ==== ======= ===== ====================\n",
      "\n",
      "    :Missing Attribute Values: None\n",
      "    :Class Distribution: 33.3% for each of 3 classes.\n",
      "    :Creator: R.A. Fisher\n",
      "    :Donor: Michael Marshall (MARSHALL%PLU@io.arc.nasa.gov)\n",
      "    :Date: July, 1988\n",
      "\n",
      "The famous Iris database, first used by Sir R.A. Fisher. The dataset is taken\n",
      "from Fisher's paper. Note that it's the same as in R, but not as in the UCI\n",
      "Machine Learning Repository, which has two wrong data points.\n",
      "\n",
      "This is perhaps the best known database to be found in the\n",
      "pattern recognition literature.  Fisher's paper is a classic in the field and\n",
      "is referenced frequently to this day.  (See Duda & Hart, for example.)  The\n",
      "data set contains 3 classes of 50 instances each, where each class refers to a\n",
      "type of iris plant.  One class is linearly separable from the other 2; the\n",
      "latter are NOT linearly separable from each other.\n",
      "\n",
      "|details-start|\n",
      "**References**\n",
      "|details-split|\n",
      "\n",
      "- Fisher, R.A. \"The use of multiple measurements in taxonomic problems\"\n",
      "  Annual Eugenics, 7, Part II, 179-188 (1936); also in \"Contributions to\n",
      "  Mathematical Statistics\" (John Wiley, NY, 1950).\n",
      "- Duda, R.O., & Hart, P.E. (1973) Pattern Classification and Scene Analysis.\n",
      "  (Q327.D83) John Wiley & Sons.  ISBN 0-471-22361-1.  See page 218.\n",
      "- Dasarathy, B.V. (1980) \"Nosing Around the Neighborhood: A New System\n",
      "  Structure and Classification Rule for Recognition in Partially Exposed\n",
      "  Environments\".  IEEE Transactions on Pattern Analysis and Machine\n",
      "  Intelligence, Vol. PAMI-2, No. 1, 67-71.\n",
      "- Gates, G.W. (1972) \"The Reduced Nearest Neighbor Rule\".  IEEE Transactions\n",
      "  on Information Theory, May 1972, 431-433.\n",
      "- See also: 1988 MLC Proceedings, 54-64.  Cheeseman et al\"s AUTOCLASS II\n",
      "  conceptual clustering system finds 3 classes in the data.\n",
      "- Many, many more ...\n",
      "\n",
      "|details-end|\n"
     ]
    }
   ],
   "source": [
    "from sklearn import datasets\n",
    "\n",
    "iris = datasets.load_iris()\n",
    "X = iris.data\n",
    "y = iris.target\n",
    "target_names = iris.target_names\n",
    "class_labels = [target_names[label] for label in y]\n",
    "\n",
    "print(iris.DESCR)"
   ]
  },
  {
   "cell_type": "code",
   "execution_count": 2,
   "id": "4786fb9d",
   "metadata": {},
   "outputs": [
    {
     "name": "stderr",
     "output_type": "stream",
     "text": [
      "C:\\Users\\hafid\\anaconda3\\envs\\ds\\lib\\site-packages\\seaborn\\_oldcore.py:1498: FutureWarning: is_categorical_dtype is deprecated and will be removed in a future version. Use isinstance(dtype, CategoricalDtype) instead\n",
      "  if pd.api.types.is_categorical_dtype(vector):\n",
      "C:\\Users\\hafid\\anaconda3\\envs\\ds\\lib\\site-packages\\seaborn\\_oldcore.py:1498: FutureWarning: is_categorical_dtype is deprecated and will be removed in a future version. Use isinstance(dtype, CategoricalDtype) instead\n",
      "  if pd.api.types.is_categorical_dtype(vector):\n",
      "C:\\Users\\hafid\\anaconda3\\envs\\ds\\lib\\site-packages\\seaborn\\_oldcore.py:1498: FutureWarning: is_categorical_dtype is deprecated and will be removed in a future version. Use isinstance(dtype, CategoricalDtype) instead\n",
      "  if pd.api.types.is_categorical_dtype(vector):\n",
      "C:\\Users\\hafid\\anaconda3\\envs\\ds\\lib\\site-packages\\seaborn\\_oldcore.py:1498: FutureWarning: is_categorical_dtype is deprecated and will be removed in a future version. Use isinstance(dtype, CategoricalDtype) instead\n",
      "  if pd.api.types.is_categorical_dtype(vector):\n",
      "C:\\Users\\hafid\\anaconda3\\envs\\ds\\lib\\site-packages\\seaborn\\_oldcore.py:1498: FutureWarning: is_categorical_dtype is deprecated and will be removed in a future version. Use isinstance(dtype, CategoricalDtype) instead\n",
      "  if pd.api.types.is_categorical_dtype(vector):\n"
     ]
    },
    {
     "data": {
      "image/png": "[encoded data removed]",
      "text/plain": [
       "<Figure size 640x480 with 1 Axes>"
      ]
     },
     "metadata": {},
     "output_type": "display_data"
    }
   ],
   "source": [
    "import matplotlib.pyplot as plt\n",
    "import seaborn as sns\n",
    "\n",
    "# Create a scatter plot using Seaborn\n",
    "sns.scatterplot(x=X[:, 2], y=X[:, 3], hue=class_labels)\n",
    "\n",
    "# Add labels and legends\n",
    "plt.xlabel('Petal Length')\n",
    "plt.ylabel('Petal Width')\n",
    "plt.title('Iris Dataset - Petal Length vs Petal Width')\n",
    "\n",
    "# Display the plot\n",
    "plt.show()"
   ]
  },
  {
   "cell_type": "code",
   "execution_count": 4,
   "id": "a7d84262",
   "metadata": {},
   "outputs": [
    {
     "name": "stdout",
     "output_type": "stream",
     "text": [
      "0.9933333333333333\n"
     ]
    }
   ],
   "source": [
    "from sklearn.svm import SVC\n",
    "from sklearn.metrics import accuracy_score\n",
    "\n",
    "# Create an SVM classifier\n",
    "svm_classifier = SVC(kernel='linear')\n",
    "\n",
    "\n",
    "# Train the classifier on the training data\n",
    "svm_classifier.fit(X, y)\n",
    "\n",
    "# Make predictions on the testing data\n",
    "y_pred = svm_classifier.predict(X)\n",
    "\n",
    "# Calculate the accuracy of the classifier\n",
    "print(accuracy_score(y, y_pred))\n"
   ]
  },
  {
   "cell_type": "code",
   "execution_count": 6,
   "id": "18c180c3",
   "metadata": {},
   "outputs": [
    {
     "data": {
      "image/png": "[encoded data removed]",
      "text/plain": [
       "<Figure size 800x600 with 1 Axes>"
      ]
     },
     "metadata": {},
     "output_type": "display_data"
    }
   ],
   "source": [
    "import numpy as np\n",
    "import matplotlib.pyplot as plt\n",
    "\n",
    "# Extract the features (petal length and petal width)\n",
    "X = iris.data[:, 2:4]\n",
    "y = iris.target\n",
    "\n",
    "# Fit SVM model\n",
    "svm_model = SVC(kernel='poly')\n",
    "svm_model.fit(X, y)\n",
    "\n",
    "# Create a meshgrid of points to make predictions\n",
    "x_min, x_max = X[:, 0].min() - 1, X[:, 0].max() + 1\n",
    "y_min, y_max = X[:, 1].min() - 1, X[:, 1].max() + 1\n",
    "xx, yy = np.meshgrid(np.arange(x_min, x_max, 0.02),\n",
    "                     np.arange(y_min, y_max, 0.02))\n",
    "grid_points = np.c_[xx.ravel(), yy.ravel()]\n",
    "\n",
    "# Make predictions on the meshgrid\n",
    "Z = svm_model.predict(grid_points)\n",
    "Z = Z.reshape(xx.shape)\n",
    "\n",
    "# Plot the decision boundary\n",
    "plt.figure(figsize=(8, 6))\n",
    "plt.contourf(xx, yy, Z, cmap=plt.cm.Paired, alpha=0.8)\n",
    "plt.scatter(X[:, 0], X[:, 1], c=y, cmap=plt.cm.Paired, edgecolor='k')\n",
    "plt.xlabel('Petal Length')\n",
    "plt.ylabel('Petal Width')\n",
    "plt.title('SVM Decision Boundary (using petal length and petal width)')\n",
    "plt.show()"
   ]
  },
  {
   "cell_type": "markdown",
   "id": "58cfadf4",
   "metadata": {},
   "source": [
    "#### Example 2: Breast Cancer dataset"
   ]
  },
  {
   "cell_type": "code",
   "execution_count": 7,
   "id": "051adf5c",
   "metadata": {},
   "outputs": [
    {
     "name": "stdout",
     "output_type": "stream",
     "text": [
      ".. _breast_cancer_dataset:\n",
      "\n",
      "Breast cancer wisconsin (diagnostic) dataset\n",
      "--------------------------------------------\n",
      "\n",
      "**Data Set Characteristics:**\n",
      "\n",
      "    :Number of Instances: 569\n",
      "\n",
      "    :Number of Attributes: 30 numeric, predictive attributes and the class\n",
      "\n",
      "    :Attribute Information:\n",
      "        - radius (mean of distances from center to points on the perimeter)\n",
      "        - texture (standard deviation of gray-scale values)\n",
      "        - perimeter\n",
      "        - area\n",
      "        - smoothness (local variation in radius lengths)\n",
      "        - compactness (perimeter^2 / area - 1.0)\n",
      "        - concavity (severity of concave portions of the contour)\n",
      "        - concave points (number of concave portions of the contour)\n",
      "        - symmetry\n",
      "        - fractal dimension (\"coastline approximation\" - 1)\n",
      "\n",
      "        The mean, standard error, and \"worst\" or largest (mean of the three\n",
      "        worst/largest values) of these features were computed for each image,\n",
      "        resulting in 30 features.  For instance, field 0 is Mean Radius, field\n",
      "        10 is Radius SE, field 20 is Worst Radius.\n",
      "\n",
      "        - class:\n",
      "                - WDBC-Malignant\n",
      "                - WDBC-Benign\n",
      "\n",
      "    :Summary Statistics:\n",
      "\n",
      "    ===================================== ====== ======\n",
      "                                           Min    Max\n",
      "    ===================================== ====== ======\n",
      "    radius (mean):                        6.981  28.11\n",
      "    texture (mean):                       9.71   39.28\n",
      "    perimeter (mean):                     43.79  188.5\n",
      "    area (mean):                          143.5  2501.0\n",
      "    smoothness (mean):                    0.053  0.163\n",
      "    compactness (mean):                   0.019  0.345\n",
      "    concavity (mean):                     0.0    0.427\n",
      "    concave points (mean):                0.0    0.201\n",
      "    symmetry (mean):                      0.106  0.304\n",
      "    fractal dimension (mean):             0.05   0.097\n",
      "    radius (standard error):              0.112  2.873\n",
      "    texture (standard error):             0.36   4.885\n",
      "    perimeter (standard error):           0.757  21.98\n",
      "    area (standard error):                6.802  542.2\n",
      "    smoothness (standard error):          0.002  0.031\n",
      "    compactness (standard error):         0.002  0.135\n",
      "    concavity (standard error):           0.0    0.396\n",
      "    concave points (standard error):      0.0    0.053\n",
      "    symmetry (standard error):            0.008  0.079\n",
      "    fractal dimension (standard error):   0.001  0.03\n",
      "    radius (worst):                       7.93   36.04\n",
      "    texture (worst):                      12.02  49.54\n",
      "    perimeter (worst):                    50.41  251.2\n",
      "    area (worst):                         185.2  4254.0\n",
      "    smoothness (worst):                   0.071  0.223\n",
      "    compactness (worst):                  0.027  1.058\n",
      "    concavity (worst):                    0.0    1.252\n",
      "    concave points (worst):               0.0    0.291\n",
      "    symmetry (worst):                     0.156  0.664\n",
      "    fractal dimension (worst):            0.055  0.208\n",
      "    ===================================== ====== ======\n",
      "\n",
      "    :Missing Attribute Values: None\n",
      "\n",
      "    :Class Distribution: 212 - Malignant, 357 - Benign\n",
      "\n",
      "    :Creator:  Dr. William H. Wolberg, W. Nick Street, Olvi L. Mangasarian\n",
      "\n",
      "    :Donor: Nick Street\n",
      "\n",
      "    :Date: November, 1995\n",
      "\n",
      "This is a copy of UCI ML Breast Cancer Wisconsin (Diagnostic) datasets.\n",
      "https://goo.gl/U2Uwz2\n",
      "\n",
      "Features are computed from a digitized image of a fine needle\n",
      "aspirate (FNA) of a breast mass.  They describe\n",
      "characteristics of the cell nuclei present in the image.\n",
      "\n",
      "Separating plane described above was obtained using\n",
      "Multisurface Method-Tree (MSM-T) [K. P. Bennett, \"Decision Tree\n",
      "Construction Via Linear Programming.\" Proceedings of the 4th\n",
      "Midwest Artificial Intelligence and Cognitive Science Society,\n",
      "pp. 97-101, 1992], a classification method which uses linear\n",
      "programming to construct a decision tree.  Relevant features\n",
      "were selected using an exhaustive search in the space of 1-4\n",
      "features and 1-3 separating planes.\n",
      "\n",
      "The actual linear program used to obtain the separating plane\n",
      "in the 3-dimensional space is that described in:\n",
      "[K. P. Bennett and O. L. Mangasarian: \"Robust Linear\n",
      "Programming Discrimination of Two Linearly Inseparable Sets\",\n",
      "Optimization Methods and Software 1, 1992, 23-34].\n",
      "\n",
      "This database is also available through the UW CS ftp server:\n",
      "\n",
      "ftp ftp.cs.wisc.edu\n",
      "cd math-prog/cpo-dataset/machine-learn/WDBC/\n",
      "\n",
      "|details-start|\n",
      "**References**\n",
      "|details-split|\n",
      "\n",
      "- W.N. Street, W.H. Wolberg and O.L. Mangasarian. Nuclear feature extraction \n",
      "  for breast tumor diagnosis. IS&T/SPIE 1993 International Symposium on \n",
      "  Electronic Imaging: Science and Technology, volume 1905, pages 861-870,\n",
      "  San Jose, CA, 1993.\n",
      "- O.L. Mangasarian, W.N. Street and W.H. Wolberg. Breast cancer diagnosis and \n",
      "  prognosis via linear programming. Operations Research, 43(4), pages 570-577, \n",
      "  July-August 1995.\n",
      "- W.H. Wolberg, W.N. Street, and O.L. Mangasarian. Machine learning techniques\n",
      "  to diagnose breast cancer from fine-needle aspirates. Cancer Letters 77 (1994) \n",
      "  163-171.\n",
      "\n",
      "|details-end|\n"
     ]
    }
   ],
   "source": [
    "from sklearn.datasets import load_breast_cancer\n",
    "from sklearn.preprocessing import StandardScaler\n",
    "\n",
    "# Load the Breast Cancer dataset\n",
    "breast_cancer = load_breast_cancer()\n",
    "X = breast_cancer.data\n",
    "y = breast_cancer.target\n",
    "\n",
    "print(breast_cancer.DESCR)"
   ]
  },
  {
   "cell_type": "code",
   "execution_count": 9,
   "id": "a769ac1c",
   "metadata": {},
   "outputs": [
    {
     "name": "stdout",
     "output_type": "stream",
     "text": [
      "Accuracy (unscaled data): 0.956140350877193\n",
      "Accuracy (scaled data): 0.9824561403508771\n"
     ]
    }
   ],
   "source": [
    "from sklearn.model_selection import train_test_split\n",
    "\n",
    "# Split the dataset into training and testing sets\n",
    "X_train, X_test, y_train, y_test = train_test_split(X, y, test_size=0.2, random_state=4400)\n",
    "\n",
    "# Create an SVM classifier\n",
    "svm_classifier = SVC(kernel='linear')\n",
    "\n",
    "# Train the classifier on the unscaled training data\n",
    "svm_classifier.fit(X_train, y_train)\n",
    "y_pred_unscaled = svm_classifier.predict(X_test)\n",
    "accuracy_unscaled = accuracy_score(y_pred_unscaled, y_test)\n",
    "\n",
    "# Scale the training and testing data using StandardScaler\n",
    "scaler = StandardScaler()\n",
    "X_test_scaled = scaler.fit_transform(X_test)\n",
    "X_train_scaled = scaler.fit_transform(X_train)\n",
    "\n",
    "# Train the classifier on the scaled training data\n",
    "svm_classifier.fit(X_train_scaled, y_train)\n",
    "y_pred_scaled = svm_classifier.predict(X_test_scaled)\n",
    "accuracy_scaled = accuracy_score(y_pred_scaled, y_test)\n",
    "\n",
    "# Print the accuracies\n",
    "print(f\"Accuracy (unscaled data): {accuracy_unscaled}\")\n",
    "print(f\"Accuracy (scaled data): {accuracy_scaled}\")"
   ]
  },
  {
   "cell_type": "markdown",
   "id": "01e21d89",
   "metadata": {},
   "source": [
    "#### Example 3: Breast Cancer data with parameter tuning"
   ]
  },
  {
   "cell_type": "code",
   "execution_count": 11,
   "id": "7ae5bad6",
   "metadata": {},
   "outputs": [
    {
     "name": "stdout",
     "output_type": "stream",
     "text": [
      "{'C': 0.1, 'gamma': 'auto', 'kernel': 'linear'}\n",
      "0.9736842105263158\n"
     ]
    },
    {
     "name": "stderr",
     "output_type": "stream",
     "text": [
      "C:\\Users\\hafid\\anaconda3\\envs\\ds\\lib\\site-packages\\sklearn\\model_selection\\_validation.py:425: FitFailedWarning: \n",
      "80 fits failed out of a total of 160.\n",
      "The score on these train-test partitions for these parameters will be set to nan.\n",
      "If these failures are not expected, you can try to debug them by setting error_score='raise'.\n",
      "\n",
      "Below are more details about the failures:\n",
      "--------------------------------------------------------------------------------\n",
      "80 fits failed with the following error:\n",
      "Traceback (most recent call last):\n",
      "  File \"C:\\Users\\hafid\\anaconda3\\envs\\ds\\lib\\site-packages\\sklearn\\model_selection\\_validation.py\", line 729, in _fit_and_score\n",
      "    estimator.fit(X_train, y_train, **fit_params)\n",
      "  File \"C:\\Users\\hafid\\anaconda3\\envs\\ds\\lib\\site-packages\\sklearn\\base.py\", line 1145, in wrapper\n",
      "    estimator._validate_params()\n",
      "  File \"C:\\Users\\hafid\\anaconda3\\envs\\ds\\lib\\site-packages\\sklearn\\base.py\", line 638, in _validate_params\n",
      "    validate_parameter_constraints(\n",
      "  File \"C:\\Users\\hafid\\anaconda3\\envs\\ds\\lib\\site-packages\\sklearn\\utils\\_param_validation.py\", line 95, in validate_parameter_constraints\n",
      "    raise InvalidParameterError(\n",
      "sklearn.utils._param_validation.InvalidParameterError: The 'gamma' parameter of SVC must be a str among {'scale', 'auto'} or a float in the range [0.0, inf). Got 'scaled' instead.\n",
      "\n",
      "  warnings.warn(some_fits_failed_message, FitFailedWarning)\n",
      "C:\\Users\\hafid\\anaconda3\\envs\\ds\\lib\\site-packages\\sklearn\\model_selection\\_search.py:979: UserWarning: One or more of the test scores are non-finite: [       nan        nan        nan        nan 0.96483516 0.70769231\n",
      " 0.63516484 0.86813187        nan        nan        nan        nan\n",
      " 0.98021978 0.83296703 0.94285714 0.94945055        nan        nan\n",
      "        nan        nan 0.97582418 0.8989011  0.97362637 0.94945055\n",
      "        nan        nan        nan        nan 0.96263736 0.94505495\n",
      " 0.97142857 0.93406593]\n",
      "  warnings.warn(\n"
     ]
    }
   ],
   "source": [
    "from sklearn.model_selection import GridSearchCV\n",
    "\n",
    "# Define the hyperparameters to tune\n",
    "param_grid = {\n",
    "    'kernel': ['linear', 'poly', 'rbf', 'sigmoid'],\n",
    "    'C': [0.01, 0.1, 1, 10],\n",
    "    'gamma': ['scaled', 'auto']\n",
    "}\n",
    "\n",
    "# Perform grid search cross-validation\n",
    "svm_classifier = SVC()\n",
    "grid_search = GridSearchCV(svm_classifier, param_grid, cv=5)\n",
    "grid_search.fit(X_train_scaled, y_train)\n",
    "\n",
    "# Get the best hyperparameters\n",
    "best_params = grid_search.best_params_\n",
    "print(best_params)\n",
    "\n",
    "# Train the classifier on the best hyperparameters\n",
    "best_classifier = SVC(**best_params)\n",
    "best_classifier.fit(X_train_scaled, y_train)\n",
    "\n",
    "# Make predictions on the testing data\n",
    "y_pred = best_classifier.predict(X_test_scaled)\n",
    "\n",
    "# Calculate accuracy\n",
    "print(accuracy_score(y_test, y_pred))\n",
    "\n",
    "# Print the best hyperparameters and accuracy\n",
    "\n"
   ]
  },
  {
   "cell_type": "markdown",
   "id": "c8fa803b",
   "metadata": {},
   "source": [
    "Note: The gamma parameter can have a significant impact on the SVM model's flexibility and generalization ability. It determines how far the influence of a single training example extends, effectively shaping the decision boundary. Here's what the gamma parameter represents:\n",
    "\n",
    "Small Gamma (Low Value):\n",
    "- A small gamma value leads to a larger radius of influence for each support vector.\n",
    "- The decision boundary becomes smoother and more linear.\n",
    "- The model is less complex and less prone to overfitting.\n",
    "\n",
    "Large Gamma (High Value):\n",
    "- A large gamma value restricts the radius of influence for each support vector.\n",
    "- The decision boundary becomes more irregular and wiggly, allowing the model to capture intricate patterns in the training data.\n",
    "- The model becomes more complex and more prone to overfitting.\n",
    "\n",
    "The appropriate choice for the gamma parameter depends on the specific dataset and the complexity of the underlying relationships. Tuning the gamma parameter is an important aspect of hyperparameter optimization in SVM. It is often performed using techniques like grid search or random search to find the best combination of hyperparameters for a given problem.\n",
    "\n",
    "Besides of the numerical input, you can also have two setting for the gamma parameters: \n",
    "\n",
    "\"scale\":\n",
    "- With gamma=\"scale\", the gamma value is determined based on the inverse of the feature variance scaled by the number of features (1 / (n_features * X.var())).\n",
    "- This setting scales the gamma value based on the input features, taking into account the variance of the features.\n",
    "- It is a popular choice as it adapts the gamma value to the data automatically, making it suitable for datasets with different scales and variances.\n",
    "\n",
    "\"auto\":\n",
    "\n",
    "- With gamma=\"auto\", the gamma value is set to the inverse of the number of features (1 / n_features).\n",
    "- This setting uses a fixed gamma value irrespective of the input data.\n",
    "- It is a simpler approach and can be suitable when the scale or variance of the features is not a significant factor in the problem."
   ]
  },
  {
   "cell_type": "markdown",
   "id": "37776195",
   "metadata": {},
   "source": [
    "#### Example 4: Imbalanced data\n",
    "\n",
    "Imbalanced data can have a significant impact on the fitting of Support Vector Machines (SVM) classifiers. SVMs aim to find a decision boundary that maximally separates different classes, but the presence of imbalanced data can introduce challenges. Here are a few ways in which imbalanced data can affect SVM fitting:\n",
    "\n",
    "- Biased Decision Boundary: SVMs are influenced by support vectors, which are the data points near the decision boundary. In imbalanced datasets, the minority class may have fewer instances and, as a result, fewer support vectors. This can lead to a biased decision boundary that favors the majority class, potentially misclassifying instances from the minority class.\n",
    "- Accuracy and Generalization Issues: When data is imbalanced, the SVM model may prioritize the majority class due to its larger representation. As a result, the model may achieve high accuracy on the majority class but struggle with correctly classifying instances from the minority class. This can lead to lower overall accuracy and reduced generalization performance on new, unseen data.\n",
    "- Sensitivity to Outliers: Outliers or misclassified instances in the minority class can have a stronger impact on the SVM fitting in imbalanced datasets. Since SVMs aim to maximize the margin, outliers or misclassified minority class instances can exert a disproportional influence on the decision boundary, potentially leading to poor performance.\n",
    "- Class Imbalance Metrics: Traditional accuracy alone may not be an informative metric when dealing with imbalanced data. Additional evaluation metrics like precision, recall, F1-score, and area under the Receiver Operating Characteristic (ROC) curve may be more appropriate for assessing the SVM's performance on both the majority and minority classes.\n",
    "\n",
    "To address the impact of imbalanced data on SVM fitting, several techniques can be employed, including:\n",
    "\n",
    "- Resampling methods: Oversampling the minority class (e.g., using techniques like SMOTE) or undersampling the majority class can help rebalance the dataset.\n",
    "- Class weights: Assigning higher weights to the minority class during SVM training can help balance the impact of different classes on the decision boundary.\n",
    "- Cost-sensitive learning: Adjusting the misclassification costs for different classes to account for the class imbalance can help improve SVM performance.\n",
    "- Anomaly detection: Identifying outliers or misclassified instances in the minority class and handling them separately can mitigate their influence on the SVM fitting.\n",
    "\n",
    "These techniques can help mitigate the negative impact of class imbalance and improve the SVM's performance on imbalanced datasets. The choice of the most suitable approach depends on the specific characteristics of the dataset and the goals of the classification task."
   ]
  },
  {
   "cell_type": "code",
   "execution_count": 12,
   "id": "aff5002d",
   "metadata": {},
   "outputs": [
    {
     "name": "stdout",
     "output_type": "stream",
     "text": [
      "Class\n",
      "1        357\n",
      "0        212\n",
      "Name: count, dtype: int64\n"
     ]
    }
   ],
   "source": [
    "import pandas as pd\n",
    "df_summary = pd.DataFrame({'Class': y})\n",
    "print(df_summary.value_counts())"
   ]
  },
  {
   "cell_type": "code",
   "execution_count": 15,
   "id": "1a52cecd",
   "metadata": {},
   "outputs": [
    {
     "name": "stdout",
     "output_type": "stream",
     "text": [
      "Accuracy: 0.9210526315789473\n"
     ]
    }
   ],
   "source": [
    "from imblearn.over_sampling import SMOTE\n",
    "\n",
    "# Perform oversampling using SMOTE\n",
    "oversampler = SMOTE(random_state=4400)\n",
    "X_train_resampled, y_train_resampled = oversampler.fit_resample(X_train, y_train)\n",
    "\n",
    "# Fit the SVM classifier on the resampled training data\n",
    "svm_classifier.fit(X_train_resampled, y_train_resampled)\n",
    "\n",
    "# Make predictions on the testing data\n",
    "y_pred = svm_classifier.predict(X_test)\n",
    "\n",
    "# Calculate accuracy\n",
    "accuracy = accuracy_score(y_test, y_pred)\n",
    "\n",
    "# Print the accuracy\n",
    "print(\"Accuracy:\", accuracy)"
   ]
  },
  {
   "cell_type": "markdown",
   "id": "21e63c2d",
   "metadata": {},
   "source": [
    "#### Example 5: Regression: diabetes dataset"
   ]
  },
  {
   "cell_type": "code",
   "execution_count": 16,
   "id": "48ba8b10",
   "metadata": {},
   "outputs": [
    {
     "name": "stdout",
     "output_type": "stream",
     "text": [
      ".. _diabetes_dataset:\n",
      "\n",
      "Diabetes dataset\n",
      "----------------\n",
      "\n",
      "Ten baseline variables, age, sex, body mass index, average blood\n",
      "pressure, and six blood serum measurements were obtained for each of n =\n",
      "442 diabetes patients, as well as the response of interest, a\n",
      "quantitative measure of disease progression one year after baseline.\n",
      "\n",
      "**Data Set Characteristics:**\n",
      "\n",
      "  :Number of Instances: 442\n",
      "\n",
      "  :Number of Attributes: First 10 columns are numeric predictive values\n",
      "\n",
      "  :Target: Column 11 is a quantitative measure of disease progression one year after baseline\n",
      "\n",
      "  :Attribute Information:\n",
      "      - age     age in years\n",
      "      - sex\n",
      "      - bmi     body mass index\n",
      "      - bp      average blood pressure\n",
      "      - s1      tc, total serum cholesterol\n",
      "      - s2      ldl, low-density lipoproteins\n",
      "      - s3      hdl, high-density lipoproteins\n",
      "      - s4      tch, total cholesterol / HDL\n",
      "      - s5      ltg, possibly log of serum triglycerides level\n",
      "      - s6      glu, blood sugar level\n",
      "\n",
      "Note: Each of these 10 feature variables have been mean centered and scaled by the standard deviation times the square root of `n_samples` (i.e. the sum of squares of each column totals 1).\n",
      "\n",
      "Source URL:\n",
      "https://www4.stat.ncsu.edu/~boos/var.select/diabetes.html\n",
      "\n",
      "For more information see:\n",
      "Bradley Efron, Trevor Hastie, Iain Johnstone and Robert Tibshirani (2004) \"Least Angle Regression,\" Annals of Statistics (with discussion), 407-499.\n",
      "(https://web.stanford.edu/~hastie/Papers/LARS/LeastAngle_2002.pdf)\n",
      "\n"
     ]
    }
   ],
   "source": [
    "from sklearn.datasets import load_diabetes\n",
    "from sklearn.svm import SVR\n",
    "from sklearn.metrics import mean_squared_error\n",
    "\n",
    "# Load the Diabetes dataset\n",
    "diabetes = load_diabetes()\n",
    "X = diabetes.data\n",
    "y = diabetes.target\n",
    "\n",
    "print(diabetes.DESCR)"
   ]
  },
  {
   "cell_type": "code",
   "execution_count": 19,
   "id": "5801c6e2",
   "metadata": {},
   "outputs": [
    {
     "name": "stdout",
     "output_type": "stream",
     "text": [
      "{'C': 1, 'kernel': 'linear'}\n",
      "2520.64442117407\n"
     ]
    }
   ],
   "source": [
    "# Split the dataset into training and testing sets\n",
    "X_train, X_test, y_train, y_test = train_test_split(X, y, test_size=0.2, random_state=4400)\n",
    "\n",
    "# Scale the features using StandardScaler\n",
    "scaler = StandardScaler()\n",
    "X_train_scaled = scaler.fit_transform(X_train)\n",
    "X_test_scaled = scaler.fit_transform(X_test)\n",
    "\n",
    "# Define the hyperparameters to tune\n",
    "param_grid = {'C': [0.01, 0.1, 1, 10], 'kernel': ['linear', 'poly', 'rbf']}\n",
    "\n",
    "# Create an SVR regressor\n",
    "svm_regressor = SVR()\n",
    "\n",
    "# Perform grid search cross-validation\n",
    "svm_grid = GridSearchCV(svm_regressor, param_grid, cv=5)\n",
    "svm_grid.fit(X_train_scaled, y_train)\n",
    "\n",
    "# Get the best hyperparameters\n",
    "best_params = svm_grid.best_params_\n",
    "print(best_params)\n",
    "\n",
    "# Train the regressor on the best hyperparameters\n",
    "best_regressor = SVR(**best_params)\n",
    "best_regressor.fit(X_train_scaled, y_train)\n",
    "\n",
    "# Make predictions on the testing data\n",
    "y_pred = best_regressor.predict(X_test_scaled)\n",
    "\n",
    "# Calculate mean squared error\n",
    "mse = mean_squared_error(y_test, y_pred)\n",
    "print(mse)"
   ]
  },
  {
   "cell_type": "markdown",
   "id": "8c72bf60",
   "metadata": {},
   "source": [
    "### SVM with Gradient Descent"
   ]
  },
  {
   "cell_type": "code",
   "execution_count": 20,
   "id": "22485e9a",
   "metadata": {},
   "outputs": [],
   "source": [
    "import numpy as np\n",
    "\n",
    "class LinearSVM:\n",
    "    \n",
    "    def __init__(self, learning_rate=0.01, num_epochs=1000):\n",
    "        self.learning_rate = learning_rate\n",
    "        self.num_epochs = num_epochs\n",
    "        self.beta = None\n",
    "        self.beta0 = None\n",
    "            \n",
    "    def fit(self, X, y):\n",
    "        n_samples, n_features = X.shape\n",
    "        y1 = np.where(y <= 0, -1, 1)\n",
    "        \n",
    "        self.beta = np.zeros(n_features)\n",
    "        self.beta0 = 0\n",
    "        \n",
    "        for _ in range(self.num_epochs):\n",
    "            for i in range(n_samples):\n",
    "                if y1[i] * (np.dot(X, self.beta) + self.beta0) >= 0:\n",
    "                    self.beta -= self.learning_rate * (2 * self.beta)\n",
    "                else:\n",
    "                    self.beta0  -= -self.learning_rate * y1[i]\n",
    "                    self.beta -= self.learning_rate * (2 * self.beta - np.dot(X[i,:], y1[i])) \n",
    "                \n",
    "    def predict(self, X):\n",
    "        return np.sign(np.dot(X, self.beta) + self.beta0)"
   ]
  },
  {
   "cell_type": "code",
   "execution_count": null,
   "id": "c8dd5853",
   "metadata": {},
   "outputs": [],
   "source": [
    "# make_classification"
   ]
  },
  {
   "cell_type": "code",
   "execution_count": null,
   "id": "5ea4197e",
   "metadata": {},
   "outputs": [],
   "source": []
  },
  {
   "cell_type": "code",
   "execution_count": null,
   "id": "3bb9c3b6",
   "metadata": {},
   "outputs": [],
   "source": []
  }
 ],
 "metadata": {
  "kernelspec": {
   "display_name": "Python 3 (ipykernel)",
   "language": "python",
   "name": "python3"
  },
  "language_info": {
   "codemirror_mode": {
    "name": "ipython",
    "version": 3
   },
   "file_extension": ".py",
   "mimetype": "text/x-python",
   "name": "python",
   "nbconvert_exporter": "python",
   "pygments_lexer": "ipython3",
   "version": "3.10.13"
  }
 },
 "nbformat": 4,
 "nbformat_minor": 5
}

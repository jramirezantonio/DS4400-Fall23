{
 "cells": [
  {
   "cell_type": "markdown",
   "id": "25529175",
   "metadata": {},
   "source": [
    "## Probability distribution and Generalized Linear Regression\n",
    "\n",
    "This week we mainly discuss a couple of different probability distribution and how to make use of the probability distribution in the generalized linear regression model (GLM). \n",
    "\n",
    "Discrete cases: \n",
    " \n",
    "- Bernoulli\n",
    "  - target value only has two outcomes (0 and 1)\n",
    "  - GLM: logistic regression (interpretation)\n",
    "\n",
    "- Binomial: \n",
    "  - target value is count data\n",
    "  - Variance is smalled than the expectation (less overfitting)\n",
    "  - Not commonly used\n",
    "  - target values are approximately symmetrically distributed\n",
    "\n",
    "- Negative Binomial: \n",
    "  - reverse process of binomial -  the number of \"successes\" is fixed, \n",
    "  - and we count the number of trials needed to obtain the   desired number of \"successes\".\n",
    "  - target value is count data\n",
    "  - Variance is larger than expected value (overdispersion)\n",
    "  \n",
    "- Poisson: \n",
    "  - target value is count data\n",
    "  - Variance is approximately the same as the expected value\n",
    "\n",
    "- Zero inflated Poisson: \n",
    "  - mixture model\n",
    "  - when there may be a lot of zeros in the data\n",
    "  - Logistic regression + Poisson regression\n",
    "  \n",
    "Continous cases\n",
    "\n",
    "- Gaussian (Normal):\n",
    "  - most popular (default) choice\n",
    "  - target value is continous\n",
    "  - target values are approximately symmetrically distributed\n",
    "  - expected value and variance are independent\n",
    "  - Support (range of target value) on R (real values)\n",
    "  \n",
    "- Gamma: \n",
    "  - target value is continuous\n",
    "  - Support is positive numbers\n",
    "  - right-skewed data (mean is higher than median)\n",
    "\n",
    "- Beta\n",
    "  - target value is continuous\n",
    "  - support is within [0, 1] (proportion or percentage)\n",
    "  - variance is larger than the expected value (overdispersion)\n",
    "\n",
    "Generlized Linear Regression Model (GLM)\n",
    "\n",
    "GLM extends traditional linear regression to accommodate a broader class of response variables, including binary (yes/no), count (e.g., number of events), and continuous variables. The key idea behind GLM is to link the mean of the response variable to a linear combination of predictor variables through a link function. This allows for modeling relationships in a more flexible and interpretable way, as the choice of link function can be tailored to the nature of the data. \n",
    "\n",
    "Three components of the GLM: \n",
    "\n",
    "- Linear predictor\n",
    "\t$$\\eta_i = \\beta_0 + \\beta_1 X_{1i} + \\beta_2 X_{2i} + ... + \\beta_kX_{ki} + \\epsilon_i $$\n",
    "- Link function\n",
    "\t$$\\eta_i = b(\\theta)$$\n",
    "- Inverse link\n",
    "\t$$Y_i \\sim ExpFamily(\\theta = b^{-1}(\\eta_i))$$\n"
   ]
  },
  {
   "cell_type": "markdown",
   "id": "5f511bf1",
   "metadata": {},
   "source": [
    "#### Crab data\n",
    "\n",
    "Brockmann (1996) carried out a study of nesting female horseshoe crabs. Female horseshoe crabs often have male crabs attached to a female's nest known as satellites. One objective of the study was to determine which characteristics of the female were associated with the number of satellites. Of particular interest is the relationship between the width of the female carapace and satellites. It includes:\n",
    "\n",
    "-   `Satellites` = number of satellites\n",
    "-   `Width` = carapace width (cm)\n",
    "-   `Dark` = a binary factor indicating whether the female has dark coloring\n",
    "-   `GoodSpine` = a binary factor indicating whether the female has good spine condition"
   ]
  },
  {
   "cell_type": "code",
   "execution_count": 6,
   "id": "ce956d74",
   "metadata": {},
   "outputs": [
    {
     "name": "stdout",
     "output_type": "stream",
     "text": [
      "   Satellites  Width Dark GoodSpine\n",
      "0           8   28.3   no        no\n",
      "1           0   22.5  yes        no\n",
      "2           9   26.0   no       yes\n",
      "3           0   24.8  yes        no\n",
      "4           4   26.0  yes        no\n"
     ]
    }
   ],
   "source": [
    "import pandas as pd\n",
    "\n",
    "crabs = pd.read_csv('crabs.csv')\n",
    "print(crabs.head())"
   ]
  },
  {
   "cell_type": "markdown",
   "id": "3695502f",
   "metadata": {},
   "source": [
    "#### Fit Poisson, NB and zero-inflated model\n",
    "\n",
    "Suppose now we want to understand how Satellites are related to the other three variables and becuase satellites is a discrete random variable (count data), we consider three choices here: Poisson, Negative Binomial and Zero-inflated Poisson models. We can also make a histogram first to show why Binomial may not be a good choice: "
   ]
  },
  {
   "cell_type": "code",
   "execution_count": 7,
   "id": "cc0fc230",
   "metadata": {},
   "outputs": [
    {
     "data": {
      "image/png": "[encoded data removed]",
      "text/plain": [
       "<Figure size 640x480 with 1 Axes>"
      ]
     },
     "metadata": {},
     "output_type": "display_data"
    }
   ],
   "source": [
    "import matplotlib.pyplot as plt\n",
    "\n",
    "plt.hist(crabs['Satellites'], bins=10, edgecolor = 'k')\n",
    "plt.xlabel('Satellites')\n",
    "plt.ylabel('Frequency')\n",
    "plt.title('Histogram of satellites in the Crab dataset')\n",
    "plt.show()"
   ]
  },
  {
   "cell_type": "markdown",
   "id": "ad410448",
   "metadata": {},
   "source": [
    "We first try to fit a Possion regression model. We need to factorize the categrical variables. "
   ]
  },
  {
   "cell_type": "code",
   "execution_count": 8,
   "id": "a8fed218",
   "metadata": {
    "scrolled": true
   },
   "outputs": [
    {
     "name": "stdout",
     "output_type": "stream",
     "text": [
      "     const  Width  Dark_no  Dark_yes  GoodSpine_no  GoodSpine_yes\n",
      "0      1.0   28.3     True     False          True          False\n",
      "1      1.0   22.5    False      True          True          False\n",
      "2      1.0   26.0     True     False         False           True\n",
      "3      1.0   24.8    False      True          True          False\n",
      "4      1.0   26.0    False      True          True          False\n",
      "..     ...    ...      ...       ...           ...            ...\n",
      "168    1.0   26.1    False      True          True          False\n",
      "169    1.0   29.0    False      True          True          False\n",
      "170    1.0   28.0     True     False         False           True\n",
      "171    1.0   27.0    False      True          True          False\n",
      "172    1.0   24.5     True     False         False           True\n",
      "\n",
      "[173 rows x 6 columns]\n"
     ]
    }
   ],
   "source": [
    "from statsmodels import api as sm\n",
    "import pandas as pd\n",
    "from sklearn.model_selection import train_test_split\n",
    "from sklearn.metrics import mean_squared_error\n",
    "\n",
    "y = crabs.Satellites\n",
    "X = crabs.drop(columns='Satellites')\n",
    "\n",
    "# creates new cols to convert from 'yes' and 'no' to 0 and 1\n",
    "# create constant column of 1's to make matrix dims match\n",
    "X = pd.get_dummies(X, columns=['Dark', 'GoodSpine'])\n",
    "X = sm.add_constant(X)\n",
    "print(X)"
   ]
  },
  {
   "cell_type": "code",
   "execution_count": 11,
   "id": "7262745f",
   "metadata": {},
   "outputs": [
    {
     "ename": "ValueError",
     "evalue": "Pandas data cast to numpy dtype of object. Check input data with np.asarray(data).",
     "output_type": "error",
     "traceback": [
      "\u001b[1;31m---------------------------------------------------------------------------\u001b[0m",
      "\u001b[1;31mValueError\u001b[0m                                Traceback (most recent call last)",
      "Cell \u001b[1;32mIn[11], line 3\u001b[0m\n\u001b[0;32m      1\u001b[0m X_train, X_test, y_train, y_test \u001b[38;5;241m=\u001b[39m train_test_split(X, y, test_size\u001b[38;5;241m=\u001b[39m\u001b[38;5;241m0.2\u001b[39m, random_state\u001b[38;5;241m=\u001b[39m\u001b[38;5;241m4400\u001b[39m)\n\u001b[1;32m----> 3\u001b[0m model \u001b[38;5;241m=\u001b[39m \u001b[43msm\u001b[49m\u001b[38;5;241;43m.\u001b[39;49m\u001b[43mGLM\u001b[49m\u001b[43m(\u001b[49m\u001b[43my_train\u001b[49m\u001b[43m,\u001b[49m\u001b[43m \u001b[49m\u001b[43mX_train\u001b[49m\u001b[43m,\u001b[49m\u001b[43m \u001b[49m\u001b[43mfamily\u001b[49m\u001b[38;5;241;43m=\u001b[39;49m\u001b[43msm\u001b[49m\u001b[38;5;241;43m.\u001b[39;49m\u001b[43mfamilies\u001b[49m\u001b[38;5;241;43m.\u001b[39;49m\u001b[43mPoisson\u001b[49m\u001b[43m(\u001b[49m\u001b[43m)\u001b[49m\u001b[43m)\u001b[49m\n\u001b[0;32m      4\u001b[0m results \u001b[38;5;241m=\u001b[39m model\u001b[38;5;241m.\u001b[39mfit()\n\u001b[0;32m      6\u001b[0m y_pred \u001b[38;5;241m=\u001b[39m results\u001b[38;5;241m.\u001b[39mpredict(X_test)\n",
      "File \u001b[1;32m~\\AppData\\Roaming\\Python\\Python310\\site-packages\\statsmodels\\genmod\\generalized_linear_model.py:325\u001b[0m, in \u001b[0;36mGLM.__init__\u001b[1;34m(self, endog, exog, family, offset, exposure, freq_weights, var_weights, missing, **kwargs)\u001b[0m\n\u001b[0;32m    322\u001b[0m \u001b[38;5;28mself\u001b[39m\u001b[38;5;241m.\u001b[39mfreq_weights \u001b[38;5;241m=\u001b[39m freq_weights\n\u001b[0;32m    323\u001b[0m \u001b[38;5;28mself\u001b[39m\u001b[38;5;241m.\u001b[39mvar_weights \u001b[38;5;241m=\u001b[39m var_weights\n\u001b[1;32m--> 325\u001b[0m \u001b[38;5;28msuper\u001b[39m(GLM, \u001b[38;5;28mself\u001b[39m)\u001b[38;5;241m.\u001b[39m\u001b[38;5;21m__init__\u001b[39m(endog, exog, missing\u001b[38;5;241m=\u001b[39mmissing,\n\u001b[0;32m    326\u001b[0m                           offset\u001b[38;5;241m=\u001b[39moffset, exposure\u001b[38;5;241m=\u001b[39mexposure,\n\u001b[0;32m    327\u001b[0m                           freq_weights\u001b[38;5;241m=\u001b[39mfreq_weights,\n\u001b[0;32m    328\u001b[0m                           var_weights\u001b[38;5;241m=\u001b[39mvar_weights, \u001b[38;5;241m*\u001b[39m\u001b[38;5;241m*\u001b[39mkwargs)\n\u001b[0;32m    329\u001b[0m \u001b[38;5;28mself\u001b[39m\u001b[38;5;241m.\u001b[39m_check_inputs(family, \u001b[38;5;28mself\u001b[39m\u001b[38;5;241m.\u001b[39moffset, \u001b[38;5;28mself\u001b[39m\u001b[38;5;241m.\u001b[39mexposure, \u001b[38;5;28mself\u001b[39m\u001b[38;5;241m.\u001b[39mendog,\n\u001b[0;32m    330\u001b[0m                    \u001b[38;5;28mself\u001b[39m\u001b[38;5;241m.\u001b[39mfreq_weights, \u001b[38;5;28mself\u001b[39m\u001b[38;5;241m.\u001b[39mvar_weights)\n\u001b[0;32m    331\u001b[0m \u001b[38;5;28;01mif\u001b[39;00m offset \u001b[38;5;129;01mis\u001b[39;00m \u001b[38;5;28;01mNone\u001b[39;00m:\n",
      "File \u001b[1;32m~\\AppData\\Roaming\\Python\\Python310\\site-packages\\statsmodels\\base\\model.py:270\u001b[0m, in \u001b[0;36mLikelihoodModel.__init__\u001b[1;34m(self, endog, exog, **kwargs)\u001b[0m\n\u001b[0;32m    269\u001b[0m \u001b[38;5;28;01mdef\u001b[39;00m \u001b[38;5;21m__init__\u001b[39m(\u001b[38;5;28mself\u001b[39m, endog, exog\u001b[38;5;241m=\u001b[39m\u001b[38;5;28;01mNone\u001b[39;00m, \u001b[38;5;241m*\u001b[39m\u001b[38;5;241m*\u001b[39mkwargs):\n\u001b[1;32m--> 270\u001b[0m     \u001b[38;5;28msuper\u001b[39m()\u001b[38;5;241m.\u001b[39m\u001b[38;5;21m__init__\u001b[39m(endog, exog, \u001b[38;5;241m*\u001b[39m\u001b[38;5;241m*\u001b[39mkwargs)\n\u001b[0;32m    271\u001b[0m     \u001b[38;5;28mself\u001b[39m\u001b[38;5;241m.\u001b[39minitialize()\n",
      "File \u001b[1;32m~\\AppData\\Roaming\\Python\\Python310\\site-packages\\statsmodels\\base\\model.py:95\u001b[0m, in \u001b[0;36mModel.__init__\u001b[1;34m(self, endog, exog, **kwargs)\u001b[0m\n\u001b[0;32m     93\u001b[0m missing \u001b[38;5;241m=\u001b[39m kwargs\u001b[38;5;241m.\u001b[39mpop(\u001b[38;5;124m'\u001b[39m\u001b[38;5;124mmissing\u001b[39m\u001b[38;5;124m'\u001b[39m, \u001b[38;5;124m'\u001b[39m\u001b[38;5;124mnone\u001b[39m\u001b[38;5;124m'\u001b[39m)\n\u001b[0;32m     94\u001b[0m hasconst \u001b[38;5;241m=\u001b[39m kwargs\u001b[38;5;241m.\u001b[39mpop(\u001b[38;5;124m'\u001b[39m\u001b[38;5;124mhasconst\u001b[39m\u001b[38;5;124m'\u001b[39m, \u001b[38;5;28;01mNone\u001b[39;00m)\n\u001b[1;32m---> 95\u001b[0m \u001b[38;5;28mself\u001b[39m\u001b[38;5;241m.\u001b[39mdata \u001b[38;5;241m=\u001b[39m \u001b[38;5;28mself\u001b[39m\u001b[38;5;241m.\u001b[39m_handle_data(endog, exog, missing, hasconst,\n\u001b[0;32m     96\u001b[0m                               \u001b[38;5;241m*\u001b[39m\u001b[38;5;241m*\u001b[39mkwargs)\n\u001b[0;32m     97\u001b[0m \u001b[38;5;28mself\u001b[39m\u001b[38;5;241m.\u001b[39mk_constant \u001b[38;5;241m=\u001b[39m \u001b[38;5;28mself\u001b[39m\u001b[38;5;241m.\u001b[39mdata\u001b[38;5;241m.\u001b[39mk_constant\n\u001b[0;32m     98\u001b[0m \u001b[38;5;28mself\u001b[39m\u001b[38;5;241m.\u001b[39mexog \u001b[38;5;241m=\u001b[39m \u001b[38;5;28mself\u001b[39m\u001b[38;5;241m.\u001b[39mdata\u001b[38;5;241m.\u001b[39mexog\n",
      "File \u001b[1;32m~\\AppData\\Roaming\\Python\\Python310\\site-packages\\statsmodels\\base\\model.py:135\u001b[0m, in \u001b[0;36mModel._handle_data\u001b[1;34m(self, endog, exog, missing, hasconst, **kwargs)\u001b[0m\n\u001b[0;32m    134\u001b[0m \u001b[38;5;28;01mdef\u001b[39;00m \u001b[38;5;21m_handle_data\u001b[39m(\u001b[38;5;28mself\u001b[39m, endog, exog, missing, hasconst, \u001b[38;5;241m*\u001b[39m\u001b[38;5;241m*\u001b[39mkwargs):\n\u001b[1;32m--> 135\u001b[0m     data \u001b[38;5;241m=\u001b[39m handle_data(endog, exog, missing, hasconst, \u001b[38;5;241m*\u001b[39m\u001b[38;5;241m*\u001b[39mkwargs)\n\u001b[0;32m    136\u001b[0m     \u001b[38;5;66;03m# kwargs arrays could have changed, easier to just attach here\u001b[39;00m\n\u001b[0;32m    137\u001b[0m     \u001b[38;5;28;01mfor\u001b[39;00m key \u001b[38;5;129;01min\u001b[39;00m kwargs:\n",
      "File \u001b[1;32m~\\AppData\\Roaming\\Python\\Python310\\site-packages\\statsmodels\\base\\data.py:675\u001b[0m, in \u001b[0;36mhandle_data\u001b[1;34m(endog, exog, missing, hasconst, **kwargs)\u001b[0m\n\u001b[0;32m    672\u001b[0m     exog \u001b[38;5;241m=\u001b[39m np\u001b[38;5;241m.\u001b[39masarray(exog)\n\u001b[0;32m    674\u001b[0m klass \u001b[38;5;241m=\u001b[39m handle_data_class_factory(endog, exog)\n\u001b[1;32m--> 675\u001b[0m \u001b[38;5;28;01mreturn\u001b[39;00m klass(endog, exog\u001b[38;5;241m=\u001b[39mexog, missing\u001b[38;5;241m=\u001b[39mmissing, hasconst\u001b[38;5;241m=\u001b[39mhasconst,\n\u001b[0;32m    676\u001b[0m              \u001b[38;5;241m*\u001b[39m\u001b[38;5;241m*\u001b[39mkwargs)\n",
      "File \u001b[1;32m~\\AppData\\Roaming\\Python\\Python310\\site-packages\\statsmodels\\base\\data.py:84\u001b[0m, in \u001b[0;36mModelData.__init__\u001b[1;34m(self, endog, exog, missing, hasconst, **kwargs)\u001b[0m\n\u001b[0;32m     82\u001b[0m     \u001b[38;5;28mself\u001b[39m\u001b[38;5;241m.\u001b[39morig_endog \u001b[38;5;241m=\u001b[39m endog\n\u001b[0;32m     83\u001b[0m     \u001b[38;5;28mself\u001b[39m\u001b[38;5;241m.\u001b[39morig_exog \u001b[38;5;241m=\u001b[39m exog\n\u001b[1;32m---> 84\u001b[0m     \u001b[38;5;28mself\u001b[39m\u001b[38;5;241m.\u001b[39mendog, \u001b[38;5;28mself\u001b[39m\u001b[38;5;241m.\u001b[39mexog \u001b[38;5;241m=\u001b[39m \u001b[38;5;28;43mself\u001b[39;49m\u001b[38;5;241;43m.\u001b[39;49m\u001b[43m_convert_endog_exog\u001b[49m\u001b[43m(\u001b[49m\u001b[43mendog\u001b[49m\u001b[43m,\u001b[49m\u001b[43m \u001b[49m\u001b[43mexog\u001b[49m\u001b[43m)\u001b[49m\n\u001b[0;32m     86\u001b[0m \u001b[38;5;28mself\u001b[39m\u001b[38;5;241m.\u001b[39mconst_idx \u001b[38;5;241m=\u001b[39m \u001b[38;5;28;01mNone\u001b[39;00m\n\u001b[0;32m     87\u001b[0m \u001b[38;5;28mself\u001b[39m\u001b[38;5;241m.\u001b[39mk_constant \u001b[38;5;241m=\u001b[39m \u001b[38;5;241m0\u001b[39m\n",
      "File \u001b[1;32m~\\AppData\\Roaming\\Python\\Python310\\site-packages\\statsmodels\\base\\data.py:509\u001b[0m, in \u001b[0;36mPandasData._convert_endog_exog\u001b[1;34m(self, endog, exog)\u001b[0m\n\u001b[0;32m    507\u001b[0m exog \u001b[38;5;241m=\u001b[39m exog \u001b[38;5;28;01mif\u001b[39;00m exog \u001b[38;5;129;01mis\u001b[39;00m \u001b[38;5;28;01mNone\u001b[39;00m \u001b[38;5;28;01melse\u001b[39;00m np\u001b[38;5;241m.\u001b[39masarray(exog)\n\u001b[0;32m    508\u001b[0m \u001b[38;5;28;01mif\u001b[39;00m endog\u001b[38;5;241m.\u001b[39mdtype \u001b[38;5;241m==\u001b[39m \u001b[38;5;28mobject\u001b[39m \u001b[38;5;129;01mor\u001b[39;00m exog \u001b[38;5;129;01mis\u001b[39;00m \u001b[38;5;129;01mnot\u001b[39;00m \u001b[38;5;28;01mNone\u001b[39;00m \u001b[38;5;129;01mand\u001b[39;00m exog\u001b[38;5;241m.\u001b[39mdtype \u001b[38;5;241m==\u001b[39m \u001b[38;5;28mobject\u001b[39m:\n\u001b[1;32m--> 509\u001b[0m     \u001b[38;5;28;01mraise\u001b[39;00m \u001b[38;5;167;01mValueError\u001b[39;00m(\u001b[38;5;124m\"\u001b[39m\u001b[38;5;124mPandas data cast to numpy dtype of object. \u001b[39m\u001b[38;5;124m\"\u001b[39m\n\u001b[0;32m    510\u001b[0m                      \u001b[38;5;124m\"\u001b[39m\u001b[38;5;124mCheck input data with np.asarray(data).\u001b[39m\u001b[38;5;124m\"\u001b[39m)\n\u001b[0;32m    511\u001b[0m \u001b[38;5;28;01mreturn\u001b[39;00m \u001b[38;5;28msuper\u001b[39m(PandasData, \u001b[38;5;28mself\u001b[39m)\u001b[38;5;241m.\u001b[39m_convert_endog_exog(endog, exog)\n",
      "\u001b[1;31mValueError\u001b[0m: Pandas data cast to numpy dtype of object. Check input data with np.asarray(data)."
     ]
    }
   ],
   "source": [
    "X_train, X_test, y_train, y_test = train_test_split(X, y, test_size=0.2, random_state=4400)\n",
    "\n",
    "model = sm.GLM(y_train, X_train, family=sm.families.Poisson())\n",
    "results = model.fit()\n",
    "\n",
    "y_pred = results.predict(X_test)\n",
    "MSE = mean_squared_error(y_test, y_pred)\n",
    "print(MSE)"
   ]
  },
  {
   "cell_type": "code",
   "execution_count": null,
   "id": "f019026d",
   "metadata": {},
   "outputs": [],
   "source": [
    "residulas = y_test - y_pred\n",
    "\n",
    "plt.scatter(y_pred, residuals)\n",
    "plt.xlabel('Fitted values')\n",
    "plt.ylabel('Residual')\n",
    "plt.title('Residual vs. fitted values')\n",
    "plt.axhline(y=0, color='r', linestyle='--')\n",
    "plt.show()"
   ]
  },
  {
   "cell_type": "code",
   "execution_count": null,
   "id": "f320bae6",
   "metadata": {},
   "outputs": [],
   "source": []
  },
  {
   "cell_type": "markdown",
   "id": "293af379",
   "metadata": {},
   "source": [
    "How I do know whether my fit is good or bad, besides of comparing the MSE? We can also plot the residual plots and calculate the overdispersion."
   ]
  },
  {
   "cell_type": "code",
   "execution_count": null,
   "id": "2340d341",
   "metadata": {},
   "outputs": [],
   "source": [
    "overdispersion_test = results.pearson_chi2 / results.df_resid\n",
    "print(overdispersion_test)"
   ]
  },
  {
   "cell_type": "code",
   "execution_count": 2,
   "id": "9124d1d4",
   "metadata": {},
   "outputs": [
    {
     "name": "stdout",
     "output_type": "stream",
     "text": [
      "Note: you may need to restart the kernel to use updated packages.\n"
     ]
    },
    {
     "name": "stderr",
     "output_type": "stream",
     "text": [
      "WARNING: Skipping statsmodel as it is not installed.\n"
     ]
    }
   ],
   "source": [
    "pip uninstall statsmodel"
   ]
  },
  {
   "cell_type": "markdown",
   "id": "35e42d5f",
   "metadata": {},
   "source": [
    "You can consider the overdispersion value we calculate here is the indicates whether there is residuals in the model that cannot be explained by the model. The general steps is:\n",
    "\n",
    "1. Fit the count data model (e.g., Poisson regression) to the data.\n",
    "2. Calculate the Pearson chi-squared statistic, which measures the difference between the observed and expected frequencies based on the fitted model.\n",
    "3. Compare the chi-squared statistic to a chi-squared distribution with an appropriate degree of freedom (usually the residual degrees of freedom from the model) to determine if the discrepancy between observed and expected frequencies is statistically significant.\n",
    "\n",
    "If the value is larger than 1, it means overdispersion and it is not a good fit. If the value is approximate equal to 1 or less than 1, it can be considered as a good fit. "
   ]
  },
  {
   "cell_type": "code",
   "execution_count": null,
   "id": "62e956a2",
   "metadata": {},
   "outputs": [],
   "source": [
    "model = sm.GLM(y_train, X_train, familiy=sm.families.NegativeBinomial())\n",
    "results = model.fit()\n",
    "\n",
    "y_pred = results.predict(X_test)\n",
    "MSE = mean_squared_error(y_test, y_pred)\n",
    "print('Mean squared error is: ', MSE)\n",
    "\n",
    "overdispersion_test = results.pearson_chi2 / results.df_resid\n",
    "print(\"Overdispersion score is: \", overdispersion_test)\n"
   ]
  },
  {
   "cell_type": "code",
   "execution_count": 3,
   "id": "70c423e4",
   "metadata": {},
   "outputs": [
    {
     "ename": "NameError",
     "evalue": "name 'sm' is not defined",
     "output_type": "error",
     "traceback": [
      "\u001b[1;31m---------------------------------------------------------------------------\u001b[0m",
      "\u001b[1;31mNameError\u001b[0m                                 Traceback (most recent call last)",
      "Cell \u001b[1;32mIn[3], line 4\u001b[0m\n\u001b[0;32m      1\u001b[0m zero_part_cols \u001b[38;5;241m=\u001b[39m [\u001b[38;5;124m'\u001b[39m\u001b[38;5;124mDark_no\u001b[39m\u001b[38;5;124m'\u001b[39m, \u001b[38;5;124m'\u001b[39m\u001b[38;5;124mGoodSpine_no\u001b[39m\u001b[38;5;124m'\u001b[39m]\n\u001b[0;32m      2\u001b[0m poisson_part_cols \u001b[38;5;241m=\u001b[39m [\u001b[38;5;124m'\u001b[39m\u001b[38;5;124mDark_no\u001b[39m\u001b[38;5;124m'\u001b[39m, \u001b[38;5;124m'\u001b[39m\u001b[38;5;124mGoodSpine_no\u001b[39m\u001b[38;5;124m'\u001b[39m, \u001b[38;5;124m'\u001b[39m\u001b[38;5;124mwidth\u001b[39m\u001b[38;5;124m'\u001b[39m]\n\u001b[1;32m----> 4\u001b[0m model \u001b[38;5;241m=\u001b[39m \u001b[43msm\u001b[49m\u001b[38;5;241m.\u001b[39mZeroInflatedPoisson(endog\u001b[38;5;241m=\u001b[39my_train, exog\u001b[38;5;241m=\u001b[39mX_train[poisson_parts_cols])\n",
      "\u001b[1;31mNameError\u001b[0m: name 'sm' is not defined"
     ]
    }
   ],
   "source": [
    "zero_part_cols = ['Dark_no', 'GoodSpine_no']\n",
    "poisson_part_cols = ['Dark_no', 'GoodSpine_no', 'width']\n",
    "\n",
    "model = sm.ZeroInflatedPoisson(endog=y_train, exog=X_train[poisson_parts_cols],\n",
    "                              exog_infl=X_train[zero_part_cols],\n",
    "                              inflation='logit')\n",
    "results = model.fit()\n",
    "y_pred = results.predict(X_test[poisson_part_cols], X_test[zero_part_cols])\n",
    "MSE = mean_squared_error(y_test, y_pred)\n",
    "print(MSE)\n"
   ]
  },
  {
   "cell_type": "markdown",
   "id": "4653b671",
   "metadata": {},
   "source": [
    "#### Fit Gamma model\n",
    "\n",
    "Now suppose out target value is the width, which is a continous value. Again, first observe the histogram:"
   ]
  },
  {
   "cell_type": "code",
   "execution_count": 7,
   "id": "81abfce4",
   "metadata": {},
   "outputs": [
    {
     "data": {
      "image/png": "[encoded data removed]",
      "text/plain": [
       "<Figure size 640x480 with 1 Axes>"
      ]
     },
     "metadata": {},
     "output_type": "display_data"
    }
   ],
   "source": [
    "plt.hist(crabs['Width'], bins=10, edgecolor='k')\n",
    "plt.show()"
   ]
  },
  {
   "cell_type": "code",
   "execution_count": null,
   "id": "136c8ba1",
   "metadata": {},
   "outputs": [],
   "source": [
    "y = crabs.Width\n",
    "X = crabs.drop(columns='Width')\n",
    "X = pd.get_dummies(X, columns=['Dark', 'GoodSpine'])\n",
    "X = sm.add_constant(X)\n",
    "\n",
    "X_train, X_test, y_train, y_test = train_test_split(X, y, test_size=0.2, random_state=4400)\n",
    "\n",
    "gaussian_model = sm.OLS(y_train, X_train)\n",
    "gaussian_result = gaussian_model.fit()\n",
    "y_pred_gaussian = gaussian_results.predict(X_test)\n",
    "mse_gaussian = mean_squared_error(y_test, y_pred_gaussian)\n",
    "\n",
    "gamma_model = sm.GLM(y_train, X_train, family=sm.families.Gamma())\n",
    "gamma_results = gamma_model.fit()\n",
    "y_pred_gamma = gamma_results.predict(X_test)\n",
    "mse_gamma = mean_squared_error(y_test, y_pred_gamme)\n",
    "\n",
    "print('MSE for Gaussian is: ', mse_gaussian)\n",
    "print('MSE for Gamma is: ', mse_gamma)"
   ]
  },
  {
   "cell_type": "markdown",
   "id": "f50bdd8e",
   "metadata": {},
   "source": [
    "If you are interested in what link options you can have, see the help page: https://www.statsmodels.org/stable/glm.html"
   ]
  },
  {
   "cell_type": "markdown",
   "id": "e8ab7822",
   "metadata": {},
   "source": [
    "#### Fit Logistics model\n",
    "\n",
    "Suppose now our target value is Goodspine. We want to use the other three variables to predict whether the carb has good spine. "
   ]
  },
  {
   "cell_type": "code",
   "execution_count": 19,
   "id": "174606e1",
   "metadata": {},
   "outputs": [],
   "source": [
    "y = crabs.GoodSpine\n",
    "y = (y == 'yes').astype(int)\n",
    "X = crabs.drop(columns=['GoodSpine'])\n",
    "X = pd.get_dummies(X, columns=['Dark'])\n",
    "X = sm.add_constant(X)\n",
    "\n",
    "X_train, X_test, y_train, y_test = train_test_split(X, y, test_size = 0.2, random_state=4400)\n",
    "\n",
    "model = sm.GLM(y_train, X_train, family=sm.families.Binomial())\n",
    "results = model.fit()\n",
    "y_pred = results.predict(X_test)\n",
    "MSE = mean_squared_error(y_test, y_pred)\n",
    "print(MSE)"
   ]
  },
  {
   "cell_type": "code",
   "execution_count": null,
   "id": "8cb6b6b2",
   "metadata": {},
   "outputs": [],
   "source": []
  }
 ],
 "metadata": {
  "kernelspec": {
   "display_name": "Python 3 (ipykernel)",
   "language": "python",
   "name": "python3"
  },
  "language_info": {
   "codemirror_mode": {
    "name": "ipython",
    "version": 3
   },
   "file_extension": ".py",
   "mimetype": "text/x-python",
   "name": "python",
   "nbconvert_exporter": "python",
   "pygments_lexer": "ipython3",
   "version": "3.10.13"
  }
 },
 "nbformat": 4,
 "nbformat_minor": 5
}

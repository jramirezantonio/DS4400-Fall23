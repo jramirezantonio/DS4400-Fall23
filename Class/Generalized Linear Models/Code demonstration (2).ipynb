{
 "cells": [
  {
   "cell_type": "markdown",
   "id": "25529175",
   "metadata": {},
   "source": [
    "## Probability distribution and Generalized Linear Regression\n",
    "\n",
    "This week we mainly discuss a couple of different probability distribution and how to make use of the probability distribution in the generalized linear regression model (GLM). \n",
    "\n",
    "Discrete cases: \n",
    " \n",
    "- Bernoulli\n",
    "  - \n",
    "\n",
    "- Binomial: \n",
    "  - \n",
    "\n",
    "- Negative Binomial: \n",
    "  - \n",
    "  \n",
    "- Poisson: \n",
    "  - \n",
    "\n",
    "- Zero inflated Poisson: \n",
    "  - \n",
    "  \n",
    "Continous cases\n",
    "\n",
    "- Gaussian (Normal):\n",
    "  - \n",
    "  \n",
    "- Gamma: \n",
    "  - \n",
    "\n",
    "- Beta\n",
    "  - \n",
    "\n",
    "Generlized Linear Regression Model (GLM)\n",
    "\n",
    "GLM extends traditional linear regression to accommodate a broader class of response variables, including binary (yes/no), count (e.g., number of events), and continuous variables. The key idea behind GLM is to link the mean of the response variable to a linear combination of predictor variables through a link function. This allows for modeling relationships in a more flexible and interpretable way, as the choice of link function can be tailored to the nature of the data. \n",
    "\n",
    "Three components of the GLM: \n",
    "\n",
    "- Linear predictor\n",
    "\t$$\\eta_i = \\beta_0 + \\beta_1 X_{1i} + \\beta_2 X_{2i} + ... + \\beta_kX_{ki} + \\epsilon_i $$\n",
    "- Link function\n",
    "\t$$\\eta_i = b(\\theta)$$\n",
    "- Inverse link\n",
    "\t$$Y_i \\sim ExpFamily(\\theta = b^{-1}(\\eta_i))$$\n"
   ]
  },
  {
   "cell_type": "markdown",
   "id": "5f511bf1",
   "metadata": {},
   "source": [
    "#### Crab data\n",
    "\n",
    "Brockmann (1996) carried out a study of nesting female horseshoe crabs. Female horseshoe crabs often have male crabs attached to a female's nest known as satellites. One objective of the study was to determine which characteristics of the female were associated with the number of satellites. Of particular interest is the relationship between the width of the female carapace and satellites. It includes:\n",
    "\n",
    "-   `Satellites` = number of satellites\n",
    "-   `Width` = carapace width (cm)\n",
    "-   `Dark` = a binary factor indicating whether the female has dark coloring\n",
    "-   `GoodSpine` = a binary factor indicating whether the female has good spine condition"
   ]
  },
  {
   "cell_type": "code",
   "execution_count": 67,
   "id": "ce956d74",
   "metadata": {},
   "outputs": [
    {
     "name": "stdout",
     "output_type": "stream",
     "text": [
      "   Satellites  Width Dark GoodSpine\n",
      "0           8   28.3   no        no\n",
      "1           0   22.5  yes        no\n",
      "2           9   26.0   no       yes\n",
      "3           0   24.8  yes        no\n",
      "4           4   26.0  yes        no\n"
     ]
    }
   ],
   "source": [
    "import pandas as pd\n",
    "\n",
    "crabs = pd.read_csv('crabs.csv')\n",
    "print(crabs.head())"
   ]
  },
  {
   "cell_type": "markdown",
   "id": "3695502f",
   "metadata": {},
   "source": [
    "#### Fit Poisson, NB and zero-inflated model\n",
    "\n",
    "Suppose now we want to understand how Satellites are related to the other three variables and becuase satellites is a discrete random variable (count data), we consider three choices here: Poisson, Negative Binomial and Zero-inflated Poisson models. We can also make a histogram first to show why Binomial may not be a good choice: "
   ]
  },
  {
   "cell_type": "code",
   "execution_count": null,
   "id": "cc0fc230",
   "metadata": {},
   "outputs": [],
   "source": []
  },
  {
   "cell_type": "markdown",
   "id": "ad410448",
   "metadata": {},
   "source": [
    "We first try to fit a Possion regression model. We need to factorize the categrical variables. "
   ]
  },
  {
   "cell_type": "code",
   "execution_count": null,
   "id": "a8fed218",
   "metadata": {},
   "outputs": [],
   "source": []
  },
  {
   "cell_type": "markdown",
   "id": "293af379",
   "metadata": {},
   "source": [
    "How I do know whether my fit is good or bad, besides of comparing the MSE? We can also plot the residual plots and calculate the overdispersion."
   ]
  },
  {
   "cell_type": "code",
   "execution_count": null,
   "id": "2340d341",
   "metadata": {},
   "outputs": [],
   "source": []
  },
  {
   "cell_type": "code",
   "execution_count": null,
   "id": "9124d1d4",
   "metadata": {},
   "outputs": [],
   "source": []
  },
  {
   "cell_type": "markdown",
   "id": "35e42d5f",
   "metadata": {},
   "source": [
    "You can consider the overdispersion value we calculate here is the indicates whether there is residuals in the model that cannot be explained by the model. The general steps is:\n",
    "\n",
    "1. Fit the count data model (e.g., Poisson regression) to the data.\n",
    "2. Calculate the Pearson chi-squared statistic, which measures the difference between the observed and expected frequencies based on the fitted model.\n",
    "3. Compare the chi-squared statistic to a chi-squared distribution with an appropriate degree of freedom (usually the residual degrees of freedom from the model) to determine if the discrepancy between observed and expected frequencies is statistically significant.\n",
    "\n",
    "If the value is larger than 1, it means overdispersion and it is not a good fit. If the value is approximate equal to 1 or less than 1, it can be considered as a good fit. "
   ]
  },
  {
   "cell_type": "code",
   "execution_count": null,
   "id": "62e956a2",
   "metadata": {},
   "outputs": [],
   "source": []
  },
  {
   "cell_type": "code",
   "execution_count": null,
   "id": "70c423e4",
   "metadata": {},
   "outputs": [],
   "source": []
  },
  {
   "cell_type": "markdown",
   "id": "4653b671",
   "metadata": {},
   "source": [
    "#### Fit Gamma model\n",
    "\n",
    "Now suppose out target value is the width, which is a continous value. Again, first observe the histogram:"
   ]
  },
  {
   "cell_type": "code",
   "execution_count": null,
   "id": "81abfce4",
   "metadata": {},
   "outputs": [],
   "source": []
  },
  {
   "cell_type": "code",
   "execution_count": null,
   "id": "136c8ba1",
   "metadata": {},
   "outputs": [],
   "source": []
  },
  {
   "cell_type": "markdown",
   "id": "f50bdd8e",
   "metadata": {},
   "source": [
    "If you are interested in what link options you can have, see the help page: https://www.statsmodels.org/stable/glm.html"
   ]
  },
  {
   "cell_type": "markdown",
   "id": "e8ab7822",
   "metadata": {},
   "source": [
    "#### Fit Logistics model\n",
    "\n",
    "Suppose now our target value is Goodspine. We want to use the other three variables to predict whether the carb has good spine. "
   ]
  },
  {
   "cell_type": "code",
   "execution_count": null,
   "id": "174606e1",
   "metadata": {},
   "outputs": [],
   "source": []
  },
  {
   "cell_type": "code",
   "execution_count": null,
   "id": "8cb6b6b2",
   "metadata": {},
   "outputs": [],
   "source": []
  }
 ],
 "metadata": {
  "kernelspec": {
   "display_name": "Python 3 (ipykernel)",
   "language": "python",
   "name": "python3"
  },
  "language_info": {
   "codemirror_mode": {
    "name": "ipython",
    "version": 3
   },
   "file_extension": ".py",
   "mimetype": "text/x-python",
   "name": "python",
   "nbconvert_exporter": "python",
   "pygments_lexer": "ipython3",
   "version": "3.10.13"
  }
 },
 "nbformat": 4,
 "nbformat_minor": 5
}

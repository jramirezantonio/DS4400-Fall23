{
 "cells": [
  {
   "cell_type": "markdown",
   "id": "d4b78cd6",
   "metadata": {},
   "source": [
    "## Linear regression variations\n",
    "\n",
    "In the lecture, we have introduce a couple of models which can help us to explain the nonlinear relationships between variables. The advantages and disadvantages are summarized in the lecture slides. Notice that, unless we do see a potential nonlinear relationship in the EDA or in the context, linear model should still be the first thing to consider. \n",
    "\n",
    "+ Polynomial regression\n",
    "+ Piecewise linear regression\n",
    "+ Weighted linear regression\n",
    "+ Local regression\n",
    "\n",
    "In this coe demonstration, we will show you how to fit and compare these models. At this moment, we only use mean square error (MSE) to compare the models. "
   ]
  },
  {
   "cell_type": "markdown",
   "id": "4c9e2369",
   "metadata": {},
   "source": [
    "#### Example: mtcars data: EDA and linear regression"
   ]
  },
  {
   "cell_type": "code",
   "execution_count": 73,
   "id": "e27e4360",
   "metadata": {},
   "outputs": [
    {
     "data": {
      "text/html": [
       "<div>\n",
       "<style scoped>\n",
       "    .dataframe tbody tr th:only-of-type {\n",
       "        vertical-align: middle;\n",
       "    }\n",
       "\n",
       "    .dataframe tbody tr th {\n",
       "        vertical-align: top;\n",
       "    }\n",
       "\n",
       "    .dataframe thead th {\n",
       "        text-align: right;\n",
       "    }\n",
       "</style>\n",
       "<table border=\"1\" class=\"dataframe\">\n",
       "  <thead>\n",
       "    <tr style=\"text-align: right;\">\n",
       "      <th></th>\n",
       "      <th>mpg</th>\n",
       "      <th>cyl</th>\n",
       "      <th>disp</th>\n",
       "      <th>hp</th>\n",
       "      <th>drat</th>\n",
       "      <th>wt</th>\n",
       "      <th>qsec</th>\n",
       "      <th>vs</th>\n",
       "      <th>am</th>\n",
       "      <th>gear</th>\n",
       "      <th>carb</th>\n",
       "    </tr>\n",
       "    <tr>\n",
       "      <th>rownames</th>\n",
       "      <th></th>\n",
       "      <th></th>\n",
       "      <th></th>\n",
       "      <th></th>\n",
       "      <th></th>\n",
       "      <th></th>\n",
       "      <th></th>\n",
       "      <th></th>\n",
       "      <th></th>\n",
       "      <th></th>\n",
       "      <th></th>\n",
       "    </tr>\n",
       "  </thead>\n",
       "  <tbody>\n",
       "    <tr>\n",
       "      <th>Mazda RX4</th>\n",
       "      <td>21.0</td>\n",
       "      <td>6</td>\n",
       "      <td>160.0</td>\n",
       "      <td>110</td>\n",
       "      <td>3.90</td>\n",
       "      <td>2.620</td>\n",
       "      <td>16.46</td>\n",
       "      <td>0</td>\n",
       "      <td>1</td>\n",
       "      <td>4</td>\n",
       "      <td>4</td>\n",
       "    </tr>\n",
       "    <tr>\n",
       "      <th>Mazda RX4 Wag</th>\n",
       "      <td>21.0</td>\n",
       "      <td>6</td>\n",
       "      <td>160.0</td>\n",
       "      <td>110</td>\n",
       "      <td>3.90</td>\n",
       "      <td>2.875</td>\n",
       "      <td>17.02</td>\n",
       "      <td>0</td>\n",
       "      <td>1</td>\n",
       "      <td>4</td>\n",
       "      <td>4</td>\n",
       "    </tr>\n",
       "    <tr>\n",
       "      <th>Datsun 710</th>\n",
       "      <td>22.8</td>\n",
       "      <td>4</td>\n",
       "      <td>108.0</td>\n",
       "      <td>93</td>\n",
       "      <td>3.85</td>\n",
       "      <td>2.320</td>\n",
       "      <td>18.61</td>\n",
       "      <td>1</td>\n",
       "      <td>1</td>\n",
       "      <td>4</td>\n",
       "      <td>1</td>\n",
       "    </tr>\n",
       "    <tr>\n",
       "      <th>Hornet 4 Drive</th>\n",
       "      <td>21.4</td>\n",
       "      <td>6</td>\n",
       "      <td>258.0</td>\n",
       "      <td>110</td>\n",
       "      <td>3.08</td>\n",
       "      <td>3.215</td>\n",
       "      <td>19.44</td>\n",
       "      <td>1</td>\n",
       "      <td>0</td>\n",
       "      <td>3</td>\n",
       "      <td>1</td>\n",
       "    </tr>\n",
       "    <tr>\n",
       "      <th>Hornet Sportabout</th>\n",
       "      <td>18.7</td>\n",
       "      <td>8</td>\n",
       "      <td>360.0</td>\n",
       "      <td>175</td>\n",
       "      <td>3.15</td>\n",
       "      <td>3.440</td>\n",
       "      <td>17.02</td>\n",
       "      <td>0</td>\n",
       "      <td>0</td>\n",
       "      <td>3</td>\n",
       "      <td>2</td>\n",
       "    </tr>\n",
       "    <tr>\n",
       "      <th>Valiant</th>\n",
       "      <td>18.1</td>\n",
       "      <td>6</td>\n",
       "      <td>225.0</td>\n",
       "      <td>105</td>\n",
       "      <td>2.76</td>\n",
       "      <td>3.460</td>\n",
       "      <td>20.22</td>\n",
       "      <td>1</td>\n",
       "      <td>0</td>\n",
       "      <td>3</td>\n",
       "      <td>1</td>\n",
       "    </tr>\n",
       "  </tbody>\n",
       "</table>\n",
       "</div>"
      ],
      "text/plain": [
       "                    mpg  cyl   disp   hp  drat     wt   qsec  vs  am  gear  \\\n",
       "rownames                                                                     \n",
       "Mazda RX4          21.0    6  160.0  110  3.90  2.620  16.46   0   1     4   \n",
       "Mazda RX4 Wag      21.0    6  160.0  110  3.90  2.875  17.02   0   1     4   \n",
       "Datsun 710         22.8    4  108.0   93  3.85  2.320  18.61   1   1     4   \n",
       "Hornet 4 Drive     21.4    6  258.0  110  3.08  3.215  19.44   1   0     3   \n",
       "Hornet Sportabout  18.7    8  360.0  175  3.15  3.440  17.02   0   0     3   \n",
       "Valiant            18.1    6  225.0  105  2.76  3.460  20.22   1   0     3   \n",
       "\n",
       "                   carb  \n",
       "rownames                 \n",
       "Mazda RX4             4  \n",
       "Mazda RX4 Wag         4  \n",
       "Datsun 710            1  \n",
       "Hornet 4 Drive        1  \n",
       "Hornet Sportabout     2  \n",
       "Valiant               1  "
      ]
     },
     "execution_count": 73,
     "metadata": {},
     "output_type": "execute_result"
    }
   ],
   "source": [
    "import statsmodels.api as sm\n",
    "data = sm.datasets.get_rdataset('mtcars').data \n",
    "data.head(6)"
   ]
  },
  {
   "cell_type": "code",
   "execution_count": 9,
   "id": "a0e0092b",
   "metadata": {},
   "outputs": [
    {
     "data": {
      "text/plain": [
       "Text(0, 0.5, 'Miles per Galon')"
      ]
     },
     "execution_count": 9,
     "metadata": {},
     "output_type": "execute_result"
    },
    {
     "data": {
      "image/png": "[encoded data removed]",
      "text/plain": [
       "<Figure size 640x480 with 1 Axes>"
      ]
     },
     "metadata": {},
     "output_type": "display_data"
    }
   ],
   "source": [
    "import matplotlib.pyplot as plt\n",
    "\n",
    "plt.scatter(data['hp'], data['mpg'])\n",
    "plt.xlabel('Horsepower')\n",
    "plt.ylabel('Miles per Galon')"
   ]
  },
  {
   "cell_type": "code",
   "execution_count": 76,
   "id": "83d0b1cb",
   "metadata": {},
   "outputs": [
    {
     "name": "stderr",
     "output_type": "stream",
     "text": [
      "C:\\Users\\hafid\\anaconda3\\envs\\ds\\lib\\site-packages\\seaborn\\axisgrid.py:118: UserWarning: The figure layout has changed to tight\n",
      "  self._figure.tight_layout(*args, **kwargs)\n"
     ]
    },
    {
     "data": {
      "text/plain": [
       "<seaborn.axisgrid.FacetGrid at 0x17176984820>"
      ]
     },
     "execution_count": 76,
     "metadata": {},
     "output_type": "execute_result"
    },
    {
     "data": {
      "image/png": "[encoded data removed]",
      "text/plain": [
       "<Figure size 1000x500 with 1 Axes>"
      ]
     },
     "metadata": {},
     "output_type": "display_data"
    }
   ],
   "source": [
    "import seaborn as sns\n",
    "sns.lmplot(x='hp', y='mpg', data = data, aspect=2)"
   ]
  },
  {
   "cell_type": "code",
   "execution_count": 20,
   "id": "77fba5aa",
   "metadata": {},
   "outputs": [
    {
     "name": "stdout",
     "output_type": "stream",
     "text": [
      "13.989822298268805\n"
     ]
    }
   ],
   "source": [
    "# Exercise： Fit a linear regression model to the hp and mpg, \n",
    "# and then calculate the MSE\n",
    "\n",
    "import sklearn\n",
    "from sklearn.linear_model import LinearRegression\n",
    "from sklearn.metrics import mean_squared_error\n",
    "\n",
    "X = data[['hp']]\n",
    "y = data[['mpg']]\n",
    "\n",
    "lm = LinearRegression()\n",
    "lm.fit(X, y)\n",
    "\n",
    "y_linear = lm.predict(X)\n",
    "y_linear\n",
    "\n",
    "MSE = mean_squared_error(y, y_linear)\n",
    "print(MSE)"
   ]
  },
  {
   "cell_type": "code",
   "execution_count": 24,
   "id": "f94ce2c9",
   "metadata": {},
   "outputs": [
    {
     "name": "stdout",
     "output_type": "stream",
     "text": [
      "                      hp\n",
      "rownames                \n",
      "Mazda RX4            110\n",
      "Mazda RX4 Wag        110\n",
      "Datsun 710            93\n",
      "Hornet 4 Drive       110\n",
      "Hornet Sportabout    175\n",
      "Valiant              105\n",
      "Duster 360           245\n",
      "Merc 240D             62\n",
      "Merc 230              95\n",
      "Merc 280             123\n",
      "Merc 280C            123\n",
      "Merc 450SE           180\n",
      "Merc 450SL           180\n",
      "Merc 450SLC          180\n",
      "Cadillac Fleetwood   205\n",
      "Lincoln Continental  215\n",
      "Chrysler Imperial    230\n",
      "Fiat 128              66\n",
      "Honda Civic           52\n",
      "Toyota Corolla        65\n",
      "Toyota Corona         97\n",
      "Dodge Challenger     150\n",
      "AMC Javelin          150\n",
      "Camaro Z28           245\n",
      "Pontiac Firebird     175\n",
      "Fiat X1-9             66\n",
      "Porsche 914-2         91\n",
      "Lotus Europa         113\n",
      "Ford Pantera L       264\n",
      "Ferrari Dino         175\n",
      "Maserati Bora        335\n",
      "Volvo 142E           109\n"
     ]
    }
   ],
   "source": [
    "print(X)"
   ]
  },
  {
   "cell_type": "code",
   "execution_count": 17,
   "id": "a6cc2a3d",
   "metadata": {},
   "outputs": [],
   "source": [
    "# Fit a weighted linear regression model\n",
    "weights = [i for i in range(len(y_linear))]\n",
    "model = LinearRegression().fit(x, y, sample_weight = weights)"
   ]
  },
  {
   "cell_type": "markdown",
   "id": "2964eddd",
   "metadata": {},
   "source": [
    "#### Polynomial regression"
   ]
  },
  {
   "cell_type": "code",
   "execution_count": 21,
   "id": "ae6bcc7f",
   "metadata": {},
   "outputs": [
    {
     "name": "stdout",
     "output_type": "stream",
     "text": [
      "[[1.00000e+00 1.10000e+02 1.21000e+04]\n",
      " [1.00000e+00 1.10000e+02 1.21000e+04]\n",
      " [1.00000e+00 9.30000e+01 8.64900e+03]\n",
      " [1.00000e+00 1.10000e+02 1.21000e+04]\n",
      " [1.00000e+00 1.75000e+02 3.06250e+04]\n",
      " [1.00000e+00 1.05000e+02 1.10250e+04]\n",
      " [1.00000e+00 2.45000e+02 6.00250e+04]\n",
      " [1.00000e+00 6.20000e+01 3.84400e+03]\n",
      " [1.00000e+00 9.50000e+01 9.02500e+03]\n",
      " [1.00000e+00 1.23000e+02 1.51290e+04]\n",
      " [1.00000e+00 1.23000e+02 1.51290e+04]\n",
      " [1.00000e+00 1.80000e+02 3.24000e+04]\n",
      " [1.00000e+00 1.80000e+02 3.24000e+04]\n",
      " [1.00000e+00 1.80000e+02 3.24000e+04]\n",
      " [1.00000e+00 2.05000e+02 4.20250e+04]\n",
      " [1.00000e+00 2.15000e+02 4.62250e+04]\n",
      " [1.00000e+00 2.30000e+02 5.29000e+04]\n",
      " [1.00000e+00 6.60000e+01 4.35600e+03]\n",
      " [1.00000e+00 5.20000e+01 2.70400e+03]\n",
      " [1.00000e+00 6.50000e+01 4.22500e+03]\n",
      " [1.00000e+00 9.70000e+01 9.40900e+03]\n",
      " [1.00000e+00 1.50000e+02 2.25000e+04]\n",
      " [1.00000e+00 1.50000e+02 2.25000e+04]\n",
      " [1.00000e+00 2.45000e+02 6.00250e+04]\n",
      " [1.00000e+00 1.75000e+02 3.06250e+04]\n",
      " [1.00000e+00 6.60000e+01 4.35600e+03]\n",
      " [1.00000e+00 9.10000e+01 8.28100e+03]\n",
      " [1.00000e+00 1.13000e+02 1.27690e+04]\n",
      " [1.00000e+00 2.64000e+02 6.96960e+04]\n",
      " [1.00000e+00 1.75000e+02 3.06250e+04]\n",
      " [1.00000e+00 3.35000e+02 1.12225e+05]\n",
      " [1.00000e+00 1.09000e+02 1.18810e+04]]\n"
     ]
    }
   ],
   "source": [
    "from sklearn.linear_model import LinearRegression\n",
    "from sklearn.preprocessing import PolynomialFeatures\n",
    "\n",
    "deg = 2\n",
    "poly_features = PolynomialFeatures(degree=deg)\n",
    "X_poly = poly_features.fit_transform(X)\n",
    "print(X_poly)"
   ]
  },
  {
   "cell_type": "code",
   "execution_count": 23,
   "id": "afcb77a9",
   "metadata": {},
   "outputs": [
    {
     "name": "stdout",
     "output_type": "stream",
     "text": [
      "[40.4091172]\n",
      "[[ 0.         -0.21330826  0.00042082]]\n"
     ]
    }
   ],
   "source": [
    "poly_model = LinearRegression()\n",
    "poly_model.fit(X_poly, y)\n",
    "\n",
    "print(poly_model.intercept_)\n",
    "print(poly_model.coef_)"
   ]
  },
  {
   "cell_type": "code",
   "execution_count": 29,
   "id": "939c95e1",
   "metadata": {},
   "outputs": [
    {
     "name": "stdout",
     "output_type": "stream",
     "text": [
      "[[22.03707773]\n",
      " [22.03707773]\n",
      " [24.21108341]\n",
      " [22.03707773]\n",
      " [15.96765036]\n",
      " [22.65124222]\n",
      " [13.40805167]\n",
      " [28.80162037]\n",
      " [23.94269356]\n",
      " [20.53872089]\n",
      " [20.53872089]\n",
      " [15.64805681]\n",
      " [15.64805681]\n",
      " [15.64805681]\n",
      " [14.36570074]\n",
      " [14.00004379]\n",
      " [13.60936421]\n",
      " [28.16384493]\n",
      " [30.45497315]\n",
      " [28.32202634]\n",
      " [23.67767025]\n",
      " [17.88122987]\n",
      " [17.88122987]\n",
      " [13.40805167]\n",
      " [15.96765036]\n",
      " [28.16384493]\n",
      " [24.48283978]\n",
      " [21.6786786 ]\n",
      " [13.42490269]\n",
      " [15.96765036]\n",
      " [16.17688413]\n",
      " [22.15822736]]\n",
      "8.58223942107022\n"
     ]
    }
   ],
   "source": [
    "y_poly_fit = poly_model.predict(X_poly)\n",
    "print(y_poly_fit)\n",
    "\n",
    "MSE = mean_squared_error(y, y_poly_fit)\n",
    "print(MSE)"
   ]
  },
  {
   "cell_type": "markdown",
   "id": "31fb918d",
   "metadata": {},
   "source": [
    "#### Piecewise linear regression"
   ]
  },
  {
   "cell_type": "code",
   "execution_count": 30,
   "id": "f03a5097",
   "metadata": {},
   "outputs": [
    {
     "name": "stdout",
     "output_type": "stream",
     "text": [
      "8.598007173177006\n"
     ]
    }
   ],
   "source": [
    "import numpy as np\n",
    "import pandas as pd\n",
    "\n",
    "segment_points = [150] \n",
    "data['segment'] = np.where(data['hp'] <= segment_points[0], 'low_hp', 'high_hp')\n",
    "models = {}\n",
    "for segment in data['segment'].unique():\n",
    "    segment_data = data[data['segment'] == segment]\n",
    "    X = segment_data[['hp']]\n",
    "    y = segment_data['mpg']\n",
    "    model = LinearRegression().fit(X, y)\n",
    "    models[segment] = model\n",
    "\n",
    "data['predicted_mpg'] = np.nan  # Initialize a new column\n",
    "for segment, model in models.items():\n",
    "    segment_data = data[data['segment'] == segment]\n",
    "    X_pred = segment_data[['hp']]\n",
    "    y_pred = model.predict(X_pred)\n",
    "    data.loc[data['segment'] == segment, 'predicted_mpg'] = y_pred\n",
    "    \n",
    "MSE = mean_squared_error(data['mpg'], data['predicted_mpg'])\n",
    "print(MSE)"
   ]
  },
  {
   "cell_type": "markdown",
   "id": "be0a7f8f",
   "metadata": {},
   "source": [
    "#### Local regression"
   ]
  },
  {
   "cell_type": "code",
   "execution_count": 34,
   "id": "5ae3ca8b",
   "metadata": {},
   "outputs": [
    {
     "name": "stdout",
     "output_type": "stream",
     "text": [
      "[26.77609169 25.93159833 25.68041696 25.59691481 25.59691481 23.54357414\n",
      " 23.38189986 23.22056787 23.05956781 22.4187164  22.10008593 22.02060995\n",
      " 22.02060995 22.02060995 21.78261878 20.99421186 20.99421186 18.91579773\n",
      " 18.91579773 17.13865491 17.13865491 17.13865491 16.81920211 16.81920211\n",
      " 16.81920211 15.57151036 15.26879849 14.88932591 14.51460746 14.51460746\n",
      " 14.02748347 12.35357597]\n",
      "59.282981447258905\n"
     ]
    }
   ],
   "source": [
    "import statsmodels.api as sm\n",
    "from statsmodels.nonparametric.smoothers_lowess import lowess\n",
    "\n",
    "X = data['hp']\n",
    "y = data['mpg']\n",
    "\n",
    "lowess_smoothed = lowess(y, X, frac=1)\n",
    "\n",
    "\n",
    "smoothed_values = lowess_smoothed[:,1]\n",
    "# print(smoothed_values)\n",
    "MSE = mean_squared_error(y, smoothed_values)\n",
    "print(MSE)"
   ]
  },
  {
   "cell_type": "markdown",
   "id": "28ce3ce4",
   "metadata": {},
   "source": [
    "Exercise: Fit model with all the other variables, show the MSE comparison between linear model and polynomial model with degree 2 (will increase the degree change your result?).\n",
    "If we also want to fit a local regression, what do we need or no need to do  when we have more than 1 feature?\n",
    "Don't forget to split train and test data!"
   ]
  },
  {
   "cell_type": "code",
   "execution_count": 53,
   "id": "e027cf8f",
   "metadata": {},
   "outputs": [
    {
     "name": "stdout",
     "output_type": "stream",
     "text": [
      "9.894868550543528\n"
     ]
    }
   ],
   "source": [
    "from sklearn.model_selection import train_test_split\n",
    "\n",
    "# Linear model with all variables (splitting data)\n",
    "data = sm.datasets.get_rdataset('mtcars').data \n",
    "X = data.drop('mpg', axis=1)\n",
    "# X = data.drop(columns = ['mpg'])\n",
    "\n",
    "X_train, X_test, y_train, y_test = train_test_split(X, y)\n",
    "\n",
    "\n",
    "lm = LinearRegression()\n",
    "lm.fit(X_train, y_train)\n",
    "\n",
    "y_linear = lm.predict(X_test)\n",
    "y_linear\n",
    "\n",
    "MSE = mean_squared_error(y_test, y_linear)\n",
    "print(MSE)"
   ]
  },
  {
   "cell_type": "code",
   "execution_count": 55,
   "id": "6ce39387",
   "metadata": {},
   "outputs": [
    {
     "name": "stdout",
     "output_type": "stream",
     "text": [
      "554.5418123418491\n"
     ]
    }
   ],
   "source": [
    "# Parabolic model with all variables (splitting data)\n",
    "deg = 2\n",
    "poly_features = PolynomialFeatures(degree=deg)\n",
    "\n",
    "# Do for both train and test sets\n",
    "X_poly_train = poly_features.fit_transform(X_train)\n",
    "X_poly_test = poly_features.fit_transform(X_test)\n",
    "\n",
    "poly_model = LinearRegression()\n",
    "poly_model.fit(X_poly_train, y_train)\n",
    "\n",
    "y_poly_fit = poly_model.predict(X_poly_test)\n",
    "\n",
    "MSE = mean_squared_error(y_test, y_poly_fit)\n",
    "print(MSE)\n"
   ]
  },
  {
   "cell_type": "code",
   "execution_count": null,
   "id": "4d523f04",
   "metadata": {},
   "outputs": [],
   "source": []
  },
  {
   "cell_type": "markdown",
   "id": "5c61e17e",
   "metadata": {},
   "source": [
    "#### Gradient descent with Polynomial regression"
   ]
  },
  {
   "cell_type": "code",
   "execution_count": 175,
   "id": "c8908f02",
   "metadata": {},
   "outputs": [],
   "source": [
    "import numpy as np\n",
    "import matplotlib.pyplot as plt\n",
    "\n",
    "# Generate synthetic data\n",
    "np.random.seed(4400)\n",
    "X = 2 * np.random.rand(100, 1)\n",
    "y = -3 * X**2 + 2* X + 10 + 0.1*np.random.randn(100, 1)"
   ]
  },
  {
   "cell_type": "code",
   "execution_count": 176,
   "id": "18e554b4",
   "metadata": {},
   "outputs": [],
   "source": [
    "# same Gradient Descent as the one for regular linear regression??"
   ]
  },
  {
   "cell_type": "code",
   "execution_count": null,
   "id": "87400bfc",
   "metadata": {},
   "outputs": [],
   "source": []
  },
  {
   "cell_type": "code",
   "execution_count": null,
   "id": "cab1773a",
   "metadata": {},
   "outputs": [],
   "source": []
  },
  {
   "cell_type": "code",
   "execution_count": null,
   "id": "0c12ef89",
   "metadata": {},
   "outputs": [],
   "source": []
  },
  {
   "cell_type": "markdown",
   "id": "de815cfd",
   "metadata": {},
   "source": [
    "## Lasso and Ridge\n",
    "\n",
    "Lasso and Ridge regression are two widely-used techniques in linear regression that address the common problem of overfitting and multicollinearity in predictive modeling. Both methods introduce a form of regularization by adding penalty terms to the linear regression equation.\n",
    "\n",
    "Lasso, or L1 regularization, adds the absolute values of the coefficients as a penalty term to the loss function. This results in a sparse model where some coefficients are exactly zero, effectively performing feature selection. Lasso is particularly useful when dealing with high-dimensional datasets, as it can automatically identify and retain the most relevant features while discarding less important ones. It also helps prevent overfitting by constraining the model's complexity.\n",
    "\n",
    "Ridge, or L2 regularization, adds the squares of the coefficients as a penalty term. Unlike Lasso, Ridge rarely forces coefficients to become exactly zero, but it does shrink them towards zero. This helps in reducing multicollinearity, a situation where independent variables are highly correlated, by spreading the effect of correlated variables across all of them. Ridge regularization is beneficial when all features are potentially relevant, and it helps control the variance of the model, making it more stable and less sensitive to small changes in the input data.\n",
    "\n",
    "In this code demonstration, we will show you how to use ridge and lasso in Python and how to tune the parameters. We will also show you how to implement those methods with Gradient descent (We will do Lasso in the lecture and leave Ridge for the homework). "
   ]
  },
  {
   "cell_type": "markdown",
   "id": "b5746275",
   "metadata": {},
   "source": [
    "#### Example: Breast Cancer data for Lasso"
   ]
  },
  {
   "cell_type": "code",
   "execution_count": 58,
   "id": "572f5929",
   "metadata": {},
   "outputs": [],
   "source": [
    "import numpy as np\n",
    "import pandas as pd\n",
    "import matplotlib.pyplot as plt\n",
    "from sklearn.datasets import load_breast_cancer\n",
    "from sklearn.model_selection import train_test_split\n",
    "from sklearn.linear_model import Lasso\n",
    "from sklearn.preprocessing import StandardScaler\n",
    "from sklearn.metrics import mean_squared_error\n",
    "\n",
    "# Load the breast cancer dataset\n",
    "data = load_breast_cancer()\n",
    "\n",
    "# Convert the data to a pandas DataFrame\n",
    "df = pd.DataFrame(data.data, columns=data.feature_names)\n",
    "\n",
    "target = data.target\n",
    "\n",
    "X_train, X_test, y_train, y_test = train_test_split(df, target, test_size=0.2, random_state=4400)\n",
    "\n",
    "scaler = StandardScaler()\n",
    "X_train_scale = scaler.fit_transform(X_train)\n",
    "X_test_scale = scaler.fit_transform(X_test)"
   ]
  },
  {
   "cell_type": "code",
   "execution_count": 59,
   "id": "f6d4ba06",
   "metadata": {},
   "outputs": [
    {
     "name": "stdout",
     "output_type": "stream",
     "text": [
      "0.09514442253006765\n"
     ]
    }
   ],
   "source": [
    "# Lasso parameter \n",
    "alpha = 0.1\n",
    "\n",
    "# set up Lasso model\n",
    "lasso_model = Lasso(alpha=alpha)\n",
    "lasso_model.fit(X_train_scale, y_train)\n",
    "\n",
    "y_pred_lasso = lasso_model.predict(X_test_scale)\n",
    "\n",
    "MSE = mean_squared_error(y_test, y_pred_lasso)\n",
    "print(MSE)"
   ]
  },
  {
   "cell_type": "code",
   "execution_count": 61,
   "id": "49455cc1",
   "metadata": {},
   "outputs": [
    {
     "name": "stdout",
     "output_type": "stream",
     "text": [
      "                   Features  Coefficient Estimates\n",
      "0               mean radius              -0.000000\n",
      "1              mean texture              -0.000000\n",
      "2            mean perimeter              -0.000000\n",
      "3                 mean area              -0.000000\n",
      "4           mean smoothness              -0.000000\n",
      "5          mean compactness              -0.000000\n",
      "6            mean concavity              -0.000000\n",
      "7       mean concave points              -0.029911\n",
      "8             mean symmetry              -0.000000\n",
      "9    mean fractal dimension               0.000000\n",
      "10             radius error              -0.000000\n",
      "11            texture error              -0.000000\n",
      "12          perimeter error              -0.000000\n",
      "13               area error              -0.000000\n",
      "14         smoothness error              -0.000000\n",
      "15        compactness error              -0.000000\n",
      "16          concavity error              -0.000000\n",
      "17     concave points error              -0.000000\n",
      "18           symmetry error              -0.000000\n",
      "19  fractal dimension error               0.000000\n",
      "20             worst radius              -0.116845\n",
      "21            worst texture              -0.002482\n",
      "22          worst perimeter              -0.000000\n",
      "23               worst area              -0.000000\n",
      "24         worst smoothness              -0.000000\n",
      "25        worst compactness              -0.000000\n",
      "26          worst concavity              -0.000000\n",
      "27     worst concave points              -0.167061\n",
      "28           worst symmetry              -0.000000\n",
      "29  worst fractal dimension              -0.000000\n"
     ]
    }
   ],
   "source": [
    "import pandas as pd\n",
    "\n",
    "coef_df = pd.DataFrame(df.columns)\n",
    "coef_df.columns = ['Features']\n",
    "coef_df['Coefficient Estimates'] = pd.Series(lasso_model.coef_)\n",
    "print(coef_df)"
   ]
  },
  {
   "cell_type": "code",
   "execution_count": 66,
   "id": "1726c4ff",
   "metadata": {},
   "outputs": [
    {
     "data": {
      "image/png": "[encoded data removed]",
      "text/plain": [
       "<Figure size 640x480 with 1 Axes>"
      ]
     },
     "metadata": {},
     "output_type": "display_data"
    }
   ],
   "source": [
    "plt.plot(lasso_model.coef_, marker='o', linestyle='-', color='b')\n",
    "plt.title('Lasso Coefficients')\n",
    "plt.grid()\n",
    "plt.show()"
   ]
  },
  {
   "cell_type": "markdown",
   "id": "0eb3239a",
   "metadata": {},
   "source": [
    "#### Example: Breast cancer data for Ridge"
   ]
  },
  {
   "cell_type": "code",
   "execution_count": 67,
   "id": "c587a75d",
   "metadata": {},
   "outputs": [
    {
     "name": "stdout",
     "output_type": "stream",
     "text": [
      "0.0759034512333395\n"
     ]
    }
   ],
   "source": [
    "from sklearn.linear_model import Ridge\n",
    "\n",
    "# Lasso parameter \n",
    "alpha = 0.1\n",
    "\n",
    "# set up Lasso model\n",
    "ridge_model = Ridge(alpha=alpha)\n",
    "ridge_model.fit(X_train_scale, y_train)\n",
    "\n",
    "y_pred_ridge = ridge_model.predict(X_test_scale)\n",
    "\n",
    "MSE = mean_squared_error(y_test, y_pred_ridge)\n",
    "print(MSE)"
   ]
  },
  {
   "cell_type": "code",
   "execution_count": 68,
   "id": "30a847f7",
   "metadata": {},
   "outputs": [
    {
     "name": "stdout",
     "output_type": "stream",
     "text": [
      "                   Features  Coefficient Estimates\n",
      "0               mean radius               0.235975\n",
      "1              mean texture              -0.023257\n",
      "2            mean perimeter               0.211248\n",
      "3                 mean area              -0.216805\n",
      "4           mean smoothness              -0.001751\n",
      "5          mean compactness               0.158821\n",
      "6            mean concavity              -0.213509\n",
      "7       mean concave points              -0.036599\n",
      "8             mean symmetry              -0.011990\n",
      "9    mean fractal dimension               0.012691\n",
      "10             radius error              -0.164361\n",
      "11            texture error               0.010464\n",
      "12          perimeter error               0.186673\n",
      "13               area error              -0.007461\n",
      "14         smoothness error              -0.069967\n",
      "15        compactness error               0.038500\n",
      "16          concavity error               0.105960\n",
      "17     concave points error              -0.064037\n",
      "18           symmetry error              -0.032114\n",
      "19  fractal dimension error               0.024035\n",
      "20             worst radius              -0.748433\n",
      "21            worst texture              -0.034581\n",
      "22          worst perimeter              -0.385462\n",
      "23               worst area               0.705582\n",
      "24         worst smoothness               0.010604\n",
      "25        worst compactness              -0.050363\n",
      "26          worst concavity              -0.003052\n",
      "27     worst concave points              -0.053920\n",
      "28           worst symmetry              -0.007677\n",
      "29  worst fractal dimension              -0.076102\n"
     ]
    }
   ],
   "source": [
    "coef_df = pd.DataFrame(df.columns)\n",
    "coef_df.columns = ['Features']\n",
    "coef_df['Coefficient Estimates'] = pd.Series(ridge_model.coef_)\n",
    "print(coef_df)"
   ]
  },
  {
   "cell_type": "code",
   "execution_count": 69,
   "id": "d09db55c",
   "metadata": {},
   "outputs": [
    {
     "data": {
      "image/png": "[encoded data removed]",
      "text/plain": [
       "<Figure size 640x480 with 1 Axes>"
      ]
     },
     "metadata": {},
     "output_type": "display_data"
    }
   ],
   "source": [
    "plt.plot(ridge_model.coef_, marker='o', linestyle='-', color='b')\n",
    "plt.title('Ridge Coefficients')\n",
    "plt.grid()\n",
    "plt.show()"
   ]
  },
  {
   "cell_type": "markdown",
   "id": "85194eb8",
   "metadata": {},
   "source": [
    "#### Tune the parameter alpha"
   ]
  },
  {
   "cell_type": "code",
   "execution_count": 78,
   "id": "806d216b",
   "metadata": {},
   "outputs": [
    {
     "name": "stdout",
     "output_type": "stream",
     "text": [
      "1\n"
     ]
    }
   ],
   "source": [
    "from sklearn.model_selection import GridSearchCV\n",
    "\n",
    "# hyperparameter optimization using gridsearch\n",
    "alphas = [0.001, 0.01, 0.1, 1, 10, 100]\n",
    "param_grid = {'alpha': alphas}\n",
    "\n",
    "# perform gridsearch\n",
    "ridge_model = Ridge()\n",
    "grid_search = GridSearchCV(ridge_model, param_grid, cv=10, scoring='neg_mean_squared_error')\n",
    "grid_search.fit(X_train_scale, y_train)\n",
    "\n",
    "best_alpha = grid_search.best_params_['alpha']\n",
    "print(best_alpha)"
   ]
  },
  {
   "cell_type": "code",
   "execution_count": 79,
   "id": "6527cbcb",
   "metadata": {},
   "outputs": [
    {
     "name": "stdout",
     "output_type": "stream",
     "text": [
      "0.07298786047498622\n"
     ]
    }
   ],
   "source": [
    "from sklearn.linear_model import Ridge\n",
    "\n",
    "# set up optimized Lasso model\n",
    "ridge_model = Ridge(alpha=best_alpha)\n",
    "ridge_model.fit(X_train_scale, y_train)\n",
    "\n",
    "y_pred_ridge = ridge_model.predict(X_test_scale)\n",
    "\n",
    "MSE = mean_squared_error(y_test, y_pred_ridge)\n",
    "print(MSE)"
   ]
  },
  {
   "cell_type": "markdown",
   "id": "dd465f75",
   "metadata": {},
   "source": [
    "Exercise: Load the heart disease data and analysis it with Lasso and Ridge\n",
    "\n",
    "0. Take a look at the last row, what do you want to do in the beginning. \n",
    "1. Split the data into training and test data. \n",
    "2. Fit training data with Lasso and Ridge with alpha = 0.1\n",
    "3. Tune the value of alpha\n",
    "4. Report the MSE for the Lasso and Ridge with the best alpha"
   ]
  },
  {
   "cell_type": "code",
   "execution_count": 101,
   "id": "5060ecd5",
   "metadata": {},
   "outputs": [
    {
     "name": "stdout",
     "output_type": "stream",
     "text": [
      "Index([87, 166, 192, 266, 287, 302], dtype='int64')\n",
      "     age  sex  cp  trestbps  chol  fbs  restecg  thalach  exang  oldpeak  \\\n",
      "0     63    1   1       145   233    1        2      150      0      2.3   \n",
      "1     67    1   4       160   286    0        2      108      1      1.5   \n",
      "2     67    1   4       120   229    0        2      129      1      2.6   \n",
      "3     37    1   3       130   250    0        0      187      0      3.5   \n",
      "4     41    0   2       130   204    0        2      172      0      1.4   \n",
      "..   ...  ...  ..       ...   ...  ...      ...      ...    ...      ...   \n",
      "297   57    0   4       140   241    0        0      123      1      0.2   \n",
      "298   45    1   1       110   264    0        0      132      0      1.2   \n",
      "299   68    1   4       144   193    1        0      141      0      3.4   \n",
      "300   57    1   4       130   131    0        0      115      1      1.2   \n",
      "301   57    0   2       130   236    0        2      174      0      0.0   \n",
      "\n",
      "     slope   ca  thal  \n",
      "0        3  0.0   6.0  \n",
      "1        2  3.0   3.0  \n",
      "2        2  2.0   7.0  \n",
      "3        3  0.0   3.0  \n",
      "4        1  0.0   3.0  \n",
      "..     ...  ...   ...  \n",
      "297      2  0.0   7.0  \n",
      "298      2  0.0   7.0  \n",
      "299      2  2.0   7.0  \n",
      "300      2  1.0   7.0  \n",
      "301      2  1.0   3.0  \n",
      "\n",
      "[297 rows x 13 columns]\n",
      "     num\n",
      "0      0\n",
      "1      2\n",
      "2      1\n",
      "3      0\n",
      "4      0\n",
      "..   ...\n",
      "297    1\n",
      "298    1\n",
      "299    2\n",
      "300    3\n",
      "301    1\n",
      "\n",
      "[297 rows x 1 columns]\n"
     ]
    }
   ],
   "source": [
    "from ucimlrepo import fetch_ucirepo \n",
    "  \n",
    "# fetch dataset \n",
    "heart_disease = fetch_ucirepo(id=45) \n",
    "  \n",
    "#data (as pandas dataframes) \n",
    "X = heart_disease.data.features \n",
    "y = heart_disease.data.targets \n",
    "\n",
    "missing_index = X[X.isnull().any(axis=1)].index\n",
    "print(missing_index)\n",
    "\n",
    "X = X.drop(missing_index)\n",
    "y = y.drop(missing_index)\n",
    "\n",
    "print(X)\n",
    "print(y)"
   ]
  },
  {
   "cell_type": "code",
   "execution_count": 102,
   "id": "021bcbae",
   "metadata": {},
   "outputs": [
    {
     "name": "stdout",
     "output_type": "stream",
     "text": [
      "1.5588687710302835\n"
     ]
    }
   ],
   "source": [
    "# Split data\n",
    "X_train, X_test, y_train, y_test = train_test_split(X, y, test_size=0.2, random_state=4400)\n",
    "\n",
    "# Standardize data\n",
    "scaler = StandardScaler()\n",
    "X_train_scale = scaler.fit_transform(X_train)\n",
    "X_test_scale = scaler.fit_transform(X_test)\n",
    "\n",
    "# Lasso\n",
    "alpha = 0.1\n",
    "\n",
    "lasso_model = Lasso()\n",
    "lasso_model.fit(X_train_scale, y_train)\n",
    "\n",
    "y_pred_lasso = lasso_model.predict(X_test_scale)\n",
    "\n",
    "MSE = mean_squared_error(y_test, y_pred_lasso)\n",
    "print(MSE)"
   ]
  },
  {
   "cell_type": "code",
   "execution_count": 114,
   "id": "114a1060",
   "metadata": {},
   "outputs": [
    {
     "name": "stdout",
     "output_type": "stream",
     "text": [
      "0.783179847988983\n"
     ]
    }
   ],
   "source": [
    "# Ridge\n",
    "alpha = 0.1\n",
    "\n",
    "ridge_model = Ridge()\n",
    "ridge_model.fit(X_train_scale, y_train)\n",
    "\n",
    "y_pred_ridge = ridge_model.predict(X_test_scale)\n",
    "\n",
    "MSE = mean_squared_error(y_test, y_pred_ridge)\n",
    "print(MSE)"
   ]
  },
  {
   "cell_type": "code",
   "execution_count": 116,
   "id": "76cd67e9",
   "metadata": {},
   "outputs": [
    {
     "name": "stdout",
     "output_type": "stream",
     "text": [
      "0.01\n"
     ]
    }
   ],
   "source": [
    "# Tuning alpha for Lasso\n",
    "from sklearn.model_selection import GridSearchCV\n",
    "\n",
    "alphas = [0.001, 0.01, 0.1, 1, 10, 100]\n",
    "param_grid = {'alpha': alphas}\n",
    "\n",
    "# perform gridsearch\n",
    "lasso_model = Lasso()\n",
    "grid_search = GridSearchCV(lasso_model, param_grid, cv=10, scoring='neg_mean_squared_error')\n",
    "grid_search.fit(X_train_scale, y_train)\n",
    "\n",
    "best_alpha = grid_search.best_params_['alpha']\n",
    "print(best_alpha)"
   ]
  },
  {
   "cell_type": "code",
   "execution_count": 117,
   "id": "22c3e166",
   "metadata": {},
   "outputs": [
    {
     "name": "stdout",
     "output_type": "stream",
     "text": [
      "1.5588687710302835\n"
     ]
    }
   ],
   "source": [
    "# Optimized Lasso\n",
    "alpha = best_alpha\n",
    "\n",
    "lasso_model = Lasso()\n",
    "lasso_model.fit(X_train_scale, y_train)\n",
    "\n",
    "y_pred_lasso = lasso_model.predict(X_test_scale)\n",
    "\n",
    "MSE1 = mean_squared_error(y_test, y_pred_lasso)\n",
    "print(MSE1)"
   ]
  },
  {
   "cell_type": "code",
   "execution_count": 131,
   "id": "8c757d58",
   "metadata": {},
   "outputs": [],
   "source": [
    "best_MSE = [MSE1]"
   ]
  },
  {
   "cell_type": "code",
   "execution_count": 132,
   "id": "866e6aa8",
   "metadata": {},
   "outputs": [
    {
     "name": "stdout",
     "output_type": "stream",
     "text": [
      "100\n"
     ]
    }
   ],
   "source": [
    "# Tuning alpha for Ridge\n",
    "from sklearn.model_selection import GridSearchCV\n",
    "\n",
    "alphas = [0.001, 0.01, 0.1, 1, 10, 100]\n",
    "param_grid = {'alpha': alphas}\n",
    "\n",
    "# perform gridsearch\n",
    "ridge_model = Ridge()\n",
    "grid_search = GridSearchCV(ridge_model, param_grid, cv=10, scoring='neg_mean_squared_error')\n",
    "grid_search.fit(X_train_scale, y_train)\n",
    "\n",
    "best_alpha = grid_search.best_params_['alpha']\n",
    "print(best_alpha)"
   ]
  },
  {
   "cell_type": "code",
   "execution_count": 133,
   "id": "eac4f74b",
   "metadata": {},
   "outputs": [
    {
     "name": "stdout",
     "output_type": "stream",
     "text": [
      "0.783179847988983\n"
     ]
    }
   ],
   "source": [
    "# Optimized Ridge\n",
    "alpha = best_alpha\n",
    "\n",
    "ridge_model = Ridge()\n",
    "ridge_model.fit(X_train_scale, y_train)\n",
    "\n",
    "y_pred_ridge = ridge_model.predict(X_test_scale)\n",
    "\n",
    "MSE2 = mean_squared_error(y_test, y_pred_ridge)\n",
    "print(MSE2)"
   ]
  },
  {
   "cell_type": "code",
   "execution_count": 134,
   "id": "f6547753",
   "metadata": {},
   "outputs": [
    {
     "name": "stdout",
     "output_type": "stream",
     "text": [
      "[1.5588687710302835, 0.783179847988983]\n",
      "The Ridge model performed better than the Lasso model using the heart disease dataset, with a MSE of 0.783179847988983\n"
     ]
    }
   ],
   "source": [
    "best_MSE.append(MSE2)\n",
    "# Optimized MSE's using tuned alphas (first value is for Lasso and second is for Ridge)\n",
    "print(best_MSE)\n",
    "print(f\"The Ridge model performed better than the Lasso model using the heart disease dataset, with a MSE of {best_MSE[1]}\")"
   ]
  },
  {
   "cell_type": "code",
   "execution_count": null,
   "id": "b1994e9b",
   "metadata": {},
   "outputs": [],
   "source": []
  }
 ],
 "metadata": {
  "kernelspec": {
   "display_name": "Python 3 (ipykernel)",
   "language": "python",
   "name": "python3"
  },
  "language_info": {
   "codemirror_mode": {
    "name": "ipython",
    "version": 3
   },
   "file_extension": ".py",
   "mimetype": "text/x-python",
   "name": "python",
   "nbconvert_exporter": "python",
   "pygments_lexer": "ipython3",
   "version": "3.10.13"
  }
 },
 "nbformat": 4,
 "nbformat_minor": 5
}

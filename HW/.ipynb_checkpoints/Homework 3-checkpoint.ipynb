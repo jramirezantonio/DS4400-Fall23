{
 "cells": [
  {
   "cell_type": "markdown",
   "id": "c560f7d1",
   "metadata": {},
   "source": [
    "### Question 1: Compare Linear regression, Polynomial regression and local regression (40)\n",
    "\n",
    "The AirQualityUCI data set contains 9358 instances of hourly averaged responses from an array of 5 metal oxide chemical sensors embedded in an Air Quality Chemical Multisensor Device. The device was located on the field in a significantly polluted area, at road level, within an Italian city. Data were recorded from March 2004 to February 2005 (one year) representing the longest freely available recordings of on field deployed air quality chemical sensor devices responses. Ground Truth hourly averaged concentrations for CO, Non Metanic Hydrocarbons, Benzene, Total Nitrogen Oxides (NOx) and Nitrogen Dioxide (NO2) and were provided by a co-located reference certified analyzer."
   ]
  },
  {
   "cell_type": "code",
   "execution_count": 1,
   "id": "ea396c14",
   "metadata": {},
   "outputs": [
    {
     "name": "stdout",
     "output_type": "stream",
     "text": [
      "      Unnamed: 0     Date      Time  HourlyCO  PT08_S1   NMHC  Benzene  \\\n",
      "0              1  3/10/04  18:00:00       2.6   1360.0  150.0     11.9   \n",
      "1              2  3/10/04  19:00:00       2.0   1292.0  112.0      9.4   \n",
      "2              3  3/10/04  20:00:00       2.2   1402.0   88.0      9.0   \n",
      "3              4  3/10/04  21:00:00       2.2   1376.0   80.0      9.2   \n",
      "4              5  3/10/04  22:00:00       1.6   1272.0   51.0      6.5   \n",
      "...          ...      ...       ...       ...      ...    ...      ...   \n",
      "9466        9467      NaN       NaN       NaN      NaN    NaN      NaN   \n",
      "9467        9468      NaN       NaN       NaN      NaN    NaN      NaN   \n",
      "9468        9469      NaN       NaN       NaN      NaN    NaN      NaN   \n",
      "9469        9470      NaN       NaN       NaN      NaN    NaN      NaN   \n",
      "9470        9471      NaN       NaN       NaN      NaN    NaN      NaN   \n",
      "\n",
      "      PT08_S2    NOx  PT08_S3    NO2  PT08_S4  PT08_S5  Temp  RelHumidity  \\\n",
      "0      1046.0  166.0   1056.0  113.0   1692.0   1268.0  13.6         48.9   \n",
      "1       955.0  103.0   1174.0   92.0   1559.0    972.0  13.3         47.7   \n",
      "2       939.0  131.0   1140.0  114.0   1555.0   1074.0  11.9         54.0   \n",
      "3       948.0  172.0   1092.0  122.0   1584.0   1203.0  11.0         60.0   \n",
      "4       836.0  131.0   1205.0  116.0   1490.0   1110.0  11.2         59.6   \n",
      "...       ...    ...      ...    ...      ...      ...   ...          ...   \n",
      "9466      NaN    NaN      NaN    NaN      NaN      NaN   NaN          NaN   \n",
      "9467      NaN    NaN      NaN    NaN      NaN      NaN   NaN          NaN   \n",
      "9468      NaN    NaN      NaN    NaN      NaN      NaN   NaN          NaN   \n",
      "9469      NaN    NaN      NaN    NaN      NaN      NaN   NaN          NaN   \n",
      "9470      NaN    NaN      NaN    NaN      NaN      NaN   NaN          NaN   \n",
      "\n",
      "      AbsHumidity   X  X.1  \n",
      "0          0.7578 NaN  NaN  \n",
      "1          0.7255 NaN  NaN  \n",
      "2          0.7502 NaN  NaN  \n",
      "3          0.7867 NaN  NaN  \n",
      "4          0.7888 NaN  NaN  \n",
      "...           ...  ..  ...  \n",
      "9466          NaN NaN  NaN  \n",
      "9467          NaN NaN  NaN  \n",
      "9468          NaN NaN  NaN  \n",
      "9469          NaN NaN  NaN  \n",
      "9470          NaN NaN  NaN  \n",
      "\n",
      "[9471 rows x 18 columns]\n"
     ]
    }
   ],
   "source": [
    "import pandas as pd\n",
    "\n",
    "# Replace 'your_file.csv' with the actual path to your dataset file.\n",
    "AirQualityUCI = pd.read_csv('AirQualityUCI.csv')\n",
    "print(AirQualityUCI)"
   ]
  },
  {
   "cell_type": "markdown",
   "id": "37e751eb",
   "metadata": {},
   "source": [
    "1. Remove all the missing values and the first two columns from the data. How many rows and columns we have in the end? Split the data into training(80%) and testing(20%) data."
   ]
  },
  {
   "cell_type": "code",
   "execution_count": 2,
   "id": "533f3817",
   "metadata": {
    "scrolled": true
   },
   "outputs": [],
   "source": [
    "AirQualityUCI = AirQualityUCI.drop(['Unnamed: 0', 'Date', 'Time'], axis=1)"
   ]
  },
  {
   "cell_type": "code",
   "execution_count": 3,
   "id": "99e8c12d",
   "metadata": {},
   "outputs": [
    {
     "name": "stdout",
     "output_type": "stream",
     "text": [
      "The clean df has 827 rows and 13 columns.\n"
     ]
    }
   ],
   "source": [
    "AirQualityUCI.dropna(inplace=True, how='all', axis=1)\n",
    "AirQualityUCI.dropna(inplace=True, how='any', axis=0)\n",
    "\n",
    "df_dims = AirQualityUCI.shape\n",
    "print(f\"The clean df has {df_dims[0]} rows and {df_dims[1]} columns.\")"
   ]
  },
  {
   "cell_type": "code",
   "execution_count": 4,
   "id": "fa44b092",
   "metadata": {},
   "outputs": [],
   "source": [
    "import pandas as pd\n",
    "import numpy as np\n",
    "import sklearn\n",
    "from sklearn.linear_model import LinearRegression\n",
    "from sklearn.metrics import mean_squared_error\n",
    "from sklearn.model_selection import train_test_split\n",
    "from sklearn.preprocessing import StandardScaler\n",
    "\n",
    "X = AirQualityUCI.drop('HourlyCO', axis=1)\n",
    "y = AirQualityUCI['HourlyCO']\n",
    "\n",
    "X_train, X_test, y_train, y_test = train_test_split(X, y, test_size=0.2)"
   ]
  },
  {
   "cell_type": "markdown",
   "id": "8df8bd1c",
   "metadata": {},
   "source": [
    "2. Suppose we are interested in predicting the HourlyCO in the data, using all the other variables. Fit a linear regression model and report the MSE. "
   ]
  },
  {
   "cell_type": "code",
   "execution_count": 5,
   "id": "fd6ba35a",
   "metadata": {
    "scrolled": true
   },
   "outputs": [
    {
     "name": "stdout",
     "output_type": "stream",
     "text": [
      "0.055937432453760434\n"
     ]
    }
   ],
   "source": [
    "lm = LinearRegression()\n",
    "lm.fit(X_train, y_train)\n",
    "y_linear = lm.predict(X_test)\n",
    "MSE_linear = mean_squared_error(y_test, y_linear)\n",
    "print(MSE_linear)"
   ]
  },
  {
   "cell_type": "markdown",
   "id": "f7543c14",
   "metadata": {},
   "source": [
    "3. Now let's fit a another model, still use all variables but fit a polynomial regression model with degree 2. Report the MSE.  "
   ]
  },
  {
   "cell_type": "code",
   "execution_count": 6,
   "id": "cb4d3c2e",
   "metadata": {
    "scrolled": true
   },
   "outputs": [
    {
     "name": "stdout",
     "output_type": "stream",
     "text": [
      "0.04476404430347004\n"
     ]
    }
   ],
   "source": [
    "from sklearn.preprocessing import PolynomialFeatures\n",
    "from sklearn.preprocessing import StandardScaler\n",
    "\n",
    "deg = 2\n",
    "poly_features = PolynomialFeatures(degree=deg)\n",
    "\n",
    "X_poly_train = poly_features.fit_transform(X_train)\n",
    "X_poly_test = poly_features.fit_transform(X_test)\n",
    "\n",
    "poly_model = LinearRegression()\n",
    "poly_model.fit(X_poly_train, y_train)\n",
    "\n",
    "y_poly_fit = poly_model.predict(X_poly_test)\n",
    "\n",
    "MSE_squared = mean_squared_error(y_test, y_poly_fit)\n",
    "print(MSE_squared)"
   ]
  },
  {
   "cell_type": "markdown",
   "id": "ca266c7e",
   "metadata": {},
   "source": [
    "4. Keep increasing the degree to 3. How does the MSE change and can you explain why?"
   ]
  },
  {
   "cell_type": "code",
   "execution_count": 7,
   "id": "45737091",
   "metadata": {
    "scrolled": false
   },
   "outputs": [
    {
     "name": "stdout",
     "output_type": "stream",
     "text": [
      "1.0074419817667135\n",
      "Why does the MSE change?\n"
     ]
    }
   ],
   "source": [
    "deg = 3\n",
    "poly_features = PolynomialFeatures(degree=deg)\n",
    "\n",
    "X_poly_train = poly_features.fit_transform(X_train)\n",
    "X_poly_test = poly_features.fit_transform(X_test)\n",
    "\n",
    "poly_model = LinearRegression()\n",
    "poly_model.fit(X_poly_train, y_train)\n",
    "\n",
    "y_poly_fit = poly_model.predict(X_poly_test)\n",
    "\n",
    "MSE_cubic = mean_squared_error(y_test, y_poly_fit)\n",
    "print(MSE_cubic)\n",
    "print(\"Why does the MSE change?\")"
   ]
  },
  {
   "cell_type": "markdown",
   "id": "ca46a34e",
   "metadata": {},
   "source": [
    "The MSE decreases slightly when fitting with a quadratic regression model as opposed to a linear model. This is not surprising since as you increase the polynomial degree, your curve has more freedom to better fit your data. However, one thing to keep in mind is that if your curve degree is too high, you could be overfitting your data. This is what we observe when we try to fit a cubic regression model since the MSE increases when compared to the quadratic model. In fact, the cubic MSE is higher than the one from the original linear model, indicating that a cubic polynomial is not a good model for this data."
   ]
  },
  {
   "cell_type": "markdown",
   "id": "f513e67b",
   "metadata": {},
   "source": [
    "### Question 2: Compare Regularization methods (45)"
   ]
  },
  {
   "cell_type": "markdown",
   "id": "960f61bc",
   "metadata": {},
   "source": [
    "1. We notice that we may not want to use all the features in the dataset and it seems that some features are not independent with each other. Therefore, we want to apply the regularization methods. What are the three regularization methods we have discussed in the lecture and briefly state their differences. (5)"
   ]
  },
  {
   "cell_type": "markdown",
   "id": "2f4d85b8",
   "metadata": {},
   "source": [
    "In class we talked about three regularization methods: Lasso, Ridge, and Elastic Net Regression.\n",
    "All three of these methods add a penalty term to the Linear Regression's RSS in order to estimate the most relevant regression coefficients. For Lasso, this penalty term is the sum of the absolute value of the coefficients, and after using Lasso some of your coefficients can be zero.\n",
    "For Ridge, the penalty term is the sum of the squared coefficients, and after applying Ridge no coeeficient can be zero.\n",
    "Elastic Net Regression is a mix of both Lasso and Ridge, the penalty term is the sum of the sums of both the absolute values of the coeffs. and the squared coeffs. For this method, a new hyperparameter is introduced to measure if you assign more weight to lasso part or the ridge part of your regression."
   ]
  },
  {
   "cell_type": "markdown",
   "id": "d95782c8",
   "metadata": {},
   "source": [
    "2. What is the pre-processing steps that required to perform regularization and why? Perform this pre-processing steps. (5)"
   ]
  },
  {
   "cell_type": "markdown",
   "id": "bd099992",
   "metadata": {},
   "source": [
    "Regularization methods are sensitive to the scale of the data since the magnitude of the estimated coefficients depends on the units of the input variable. Hence, we pre-process the data by transforming the input variables to be on the same scale.\n",
    "One way of doing this is by using the StandardScaler() method from sklearn which standardizes features by removing the mean and scaling to unit variance."
   ]
  },
  {
   "cell_type": "code",
   "execution_count": 8,
   "id": "dc5e5752",
   "metadata": {
    "scrolled": true
   },
   "outputs": [],
   "source": [
    "scaler = StandardScaler()\n",
    "X_train_scaled = scaler.fit_transform(X_train)\n",
    "X_test_scaled = scaler.fit_transform(X_test)"
   ]
  },
  {
   "cell_type": "markdown",
   "id": "13878576",
   "metadata": {},
   "source": [
    "3. Fit Lasso model with the best tuning parameter. Report MSE. Print the table for the coefficients. Hint, you can use the list of alpha we show in the lecture, if your best alpha is at the boundary, it is OK, no need to keep increaing the range. (10)"
   ]
  },
  {
   "cell_type": "code",
   "execution_count": 9,
   "id": "04cb2694",
   "metadata": {},
   "outputs": [
    {
     "name": "stdout",
     "output_type": "stream",
     "text": [
      "The tuned alpha value is 0.001\n"
     ]
    }
   ],
   "source": [
    "from sklearn.model_selection import GridSearchCV\n",
    "from sklearn.linear_model import Lasso\n",
    "\n",
    "# Tuning alpha for Lasso\n",
    "alphas = [0.001, 0.01, 0.1, 1, 10, 100]\n",
    "param_grid = {'alpha': alphas}\n",
    "\n",
    "# perform gridsearch\n",
    "lasso_model = Lasso()\n",
    "grid_search = GridSearchCV(lasso_model, param_grid, cv=10, scoring='neg_mean_squared_error')\n",
    "grid_search.fit(X_train_scaled, y_train)\n",
    "\n",
    "best_alpha = grid_search.best_params_['alpha']\n",
    "print(f\"The tuned alpha value is {best_alpha}\")"
   ]
  },
  {
   "cell_type": "code",
   "execution_count": 10,
   "id": "b3cfd197",
   "metadata": {},
   "outputs": [
    {
     "name": "stdout",
     "output_type": "stream",
     "text": [
      "0.05741732286271508\n"
     ]
    }
   ],
   "source": [
    "# Optimized Lasso\n",
    "alpha = best_alpha\n",
    "\n",
    "lasso_model = Lasso(alpha=alpha)\n",
    "lasso_model.fit(X_train_scaled, y_train)\n",
    "\n",
    "y_pred_lasso = lasso_model.predict(X_test_scaled)\n",
    "\n",
    "MSE_Lasso = mean_squared_error(y_test, y_pred_lasso)\n",
    "print(MSE_Lasso)"
   ]
  },
  {
   "cell_type": "code",
   "execution_count": 11,
   "id": "3e39a1bf",
   "metadata": {},
   "outputs": [
    {
     "name": "stdout",
     "output_type": "stream",
     "text": [
      "       Features  Coefficient Estimates\n",
      "0       PT08_S1               0.276946\n",
      "1          NMHC               0.197298\n",
      "2       Benzene               0.803607\n",
      "3       PT08_S2              -0.000000\n",
      "4           NOx               0.373325\n",
      "5       PT08_S3               0.041853\n",
      "6           NO2               0.129093\n",
      "7       PT08_S4              -0.105926\n",
      "8       PT08_S5              -0.190078\n",
      "9          Temp              -0.176570\n",
      "10  RelHumidity              -0.097024\n",
      "11  AbsHumidity               0.101180\n"
     ]
    }
   ],
   "source": [
    "lasso_coef_df = pd.DataFrame(X.columns)\n",
    "lasso_coef_df.columns = ['Features']\n",
    "lasso_coef_df['Coefficient Estimates'] = pd.Series(lasso_model.coef_)\n",
    "print(lasso_coef_df)"
   ]
  },
  {
   "cell_type": "markdown",
   "id": "e560ec90",
   "metadata": {},
   "source": [
    "4. Fit Ridge model with the best tuning parameter. Report MSE. Print the table for the coefficients. (10)"
   ]
  },
  {
   "cell_type": "code",
   "execution_count": 12,
   "id": "f9273a37",
   "metadata": {},
   "outputs": [
    {
     "name": "stdout",
     "output_type": "stream",
     "text": [
      "The tuned alpha value is 0.01\n"
     ]
    }
   ],
   "source": [
    "from sklearn.linear_model import Ridge\n",
    "\n",
    "alphas = [0.001, 0.01, 0.1, 1, 10, 100]\n",
    "param_grid = {'alpha': alphas}\n",
    "\n",
    "# perform gridsearch\n",
    "ridge_model = Ridge()\n",
    "grid_search = GridSearchCV(ridge_model, param_grid, cv=10, scoring='neg_mean_squared_error')\n",
    "grid_search.fit(X_train_scaled, y_train)\n",
    "\n",
    "best_alpha = grid_search.best_params_['alpha']\n",
    "print(f\"The tuned alpha value is {best_alpha}\")"
   ]
  },
  {
   "cell_type": "code",
   "execution_count": 13,
   "id": "d97cf372",
   "metadata": {},
   "outputs": [
    {
     "name": "stdout",
     "output_type": "stream",
     "text": [
      "0.054984287465528484\n"
     ]
    }
   ],
   "source": [
    "# Optimized Ridge\n",
    "alpha = best_alpha\n",
    "\n",
    "ridge_model = Ridge(alpha=alpha)\n",
    "ridge_model.fit(X_train_scaled, y_train)\n",
    "\n",
    "y_pred_ridge = ridge_model.predict(X_test_scaled)\n",
    "\n",
    "MSE_Ridge = mean_squared_error(y_test, y_pred_ridge)\n",
    "print(MSE_Ridge)"
   ]
  },
  {
   "cell_type": "code",
   "execution_count": 14,
   "id": "728dcaf4",
   "metadata": {},
   "outputs": [
    {
     "name": "stdout",
     "output_type": "stream",
     "text": [
      "       Features  Coefficient Estimates\n",
      "0       PT08_S1               0.310530\n",
      "1          NMHC               0.181554\n",
      "2       Benzene               1.008009\n",
      "3       PT08_S2              -0.167206\n",
      "4           NOx               0.385260\n",
      "5       PT08_S3              -0.005623\n",
      "6           NO2               0.142084\n",
      "7       PT08_S4              -0.205608\n",
      "8       PT08_S5              -0.219892\n",
      "9          Temp              -0.232035\n",
      "10  RelHumidity              -0.156241\n",
      "11  AbsHumidity               0.155999\n"
     ]
    }
   ],
   "source": [
    "ridge_coef_df = pd.DataFrame(X.columns)\n",
    "ridge_coef_df.columns = ['Features']\n",
    "ridge_coef_df['Coefficient Estimates'] = pd.Series(ridge_model.coef_)\n",
    "print(ridge_coef_df)"
   ]
  },
  {
   "cell_type": "markdown",
   "id": "46704bf7",
   "metadata": {},
   "source": [
    "5. Fit Elastic net model with the best tuning parameter. Report MSE. Print the table for the coefficients. \n",
    "\n",
    "Hint: even though we did not include this in the lecture, you can image it is pretty similar to the Lasso and ridge. The function is called ElasticNet and notice that there are two parameters to tune: 'alpha' and 'l1_ratio'. You can use grid_search.best_params_['alpha'] to extract the best parameter for alpha. (15)"
   ]
  },
  {
   "cell_type": "code",
   "execution_count": 1,
   "id": "bfba5d49",
   "metadata": {},
   "outputs": [
    {
     "ename": "NameError",
     "evalue": "name 'GridSearchCV' is not defined",
     "output_type": "error",
     "traceback": [
      "\u001b[1;31m---------------------------------------------------------------------------\u001b[0m",
      "\u001b[1;31mNameError\u001b[0m                                 Traceback (most recent call last)",
      "Cell \u001b[1;32mIn[1], line 9\u001b[0m\n\u001b[0;32m      4\u001b[0m param_grid \u001b[38;5;241m=\u001b[39m {\n\u001b[0;32m      5\u001b[0m \u001b[38;5;124m'\u001b[39m\u001b[38;5;124malpha\u001b[39m\u001b[38;5;124m'\u001b[39m: [\u001b[38;5;241m0.01\u001b[39m, \u001b[38;5;241m0.1\u001b[39m, \u001b[38;5;241m1.0\u001b[39m],\n\u001b[0;32m      6\u001b[0m \u001b[38;5;124m'\u001b[39m\u001b[38;5;124ml1_ratio\u001b[39m\u001b[38;5;124m'\u001b[39m: [\u001b[38;5;241m0.1\u001b[39m, \u001b[38;5;241m0.5\u001b[39m, \u001b[38;5;241m0.9\u001b[39m]\n\u001b[0;32m      7\u001b[0m }\n\u001b[0;32m      8\u001b[0m \u001b[38;5;66;03m# Perform grid search with cross-validation\u001b[39;00m\n\u001b[1;32m----> 9\u001b[0m grid_search \u001b[38;5;241m=\u001b[39m \u001b[43mGridSearchCV\u001b[49m(estimator\u001b[38;5;241m=\u001b[39melastic_net, param_grid\u001b[38;5;241m=\u001b[39mparam_grid,\n\u001b[0;32m     10\u001b[0m scoring\u001b[38;5;241m=\u001b[39m\u001b[38;5;124m'\u001b[39m\u001b[38;5;124mneg_mean_squared_error\u001b[39m\u001b[38;5;124m'\u001b[39m, cv\u001b[38;5;241m=\u001b[39m\u001b[38;5;241m10\u001b[39m)\n\u001b[0;32m     11\u001b[0m grid_search\u001b[38;5;241m.\u001b[39mfit(X_train_scaled, y_train)\n\u001b[0;32m     12\u001b[0m best_alpha \u001b[38;5;241m=\u001b[39m grid_search\u001b[38;5;241m.\u001b[39mbest_params_[\u001b[38;5;124m'\u001b[39m\u001b[38;5;124malpha\u001b[39m\u001b[38;5;124m'\u001b[39m]\n",
      "\u001b[1;31mNameError\u001b[0m: name 'GridSearchCV' is not defined"
     ]
    }
   ],
   "source": [
    "from sklearn.linear_model import ElasticNet\n",
    "\n",
    "alphas = [0.001, 0.01, 0.1, 1, 10, 100]\n",
    "# l1_ratios = [0.001, 0.01, 0.1, 1, 10, 100]\n",
    "param_grid = {'alpha': alphas}\n",
    "\n",
    "# perform gridsearch\n",
    "elastic_model = ElasticNet()\n",
    "grid_search = GridSearchCV(elastic_model, param_grid, cv=10, scoring='neg_mean_squared_error')\n",
    "grid_search.fit(X_train_scaled, y_train)\n",
    "\n",
    "best_alpha = grid_search.best_params_['alpha']\n",
    "# best_l1_ratio = grid_search.best_params_['l1_ratio']\n",
    "print(f\"The tuned alpha is {best_alpha}\")\n",
    "# print(f\"The tuned l1_ratio is {best_l1_ratio}\")"
   ]
  },
  {
   "cell_type": "code",
   "execution_count": 17,
   "id": "f88ce1cd",
   "metadata": {},
   "outputs": [
    {
     "name": "stdout",
     "output_type": "stream",
     "text": [
      "       Features  Coefficient Estimates\n",
      "0       PT08_S1               0.285195\n",
      "1          NMHC               0.195982\n",
      "2       Benzene               0.833724\n",
      "3       PT08_S2              -0.010101\n",
      "4           NOx               0.379453\n",
      "5       PT08_S3               0.039568\n",
      "6           NO2               0.132074\n",
      "7       PT08_S4              -0.138076\n",
      "8       PT08_S5              -0.198890\n",
      "9          Temp              -0.203353\n",
      "10  RelHumidity              -0.126086\n",
      "11  AbsHumidity               0.127234\n"
     ]
    }
   ],
   "source": [
    "elastic_coef_df = pd.DataFrame(X.columns)\n",
    "elastic_coef_df.columns = ['Features']\n",
    "elastic_coef_df['Coefficient Estimates'] = pd.Series(elastic_model.coef_)\n",
    "print(elastic_coef_df)"
   ]
  },
  {
   "cell_type": "markdown",
   "id": "044628b5",
   "metadata": {},
   "source": [
    "### Question 3: Implement Gradient Descent for Ridge (15)\n",
    "\n",
    "Try to modify your earlier implementation for the linear regression gradient descent, so that now it is the gradient descent for ridge. Apply the Air quality data to make sure it works. \n",
    "\n",
    "Hint: The only thing you want to change is the gradient and cost function, which will now have an extra term. You can set the tuning parameter alpha as 0.01. "
   ]
  },
  {
   "cell_type": "code",
   "execution_count": 18,
   "id": "75fa5418",
   "metadata": {},
   "outputs": [],
   "source": [
    "def ridge_cost(X_b, y, thetas, lambda_):\n",
    "    \"\"\"Cost for Ridge regression\n",
    "       Params: X_b data (with 1st col of one's), true target values y, \n",
    "               coefficient array (thetas), and weight of ridge penalization (lambda_)\n",
    "       Returns: cost = RSS + lambda * sum(squared coefficients)\n",
    "       Descr: compute RSS (sum of (predictions - y) ** 2) and add to \n",
    "              ridge penalization, return summand\n",
    "    \"\"\"\n",
    "    n = len(y)\n",
    "    predictions = np.dot(X_b, thetas)\n",
    "    errors = predictions - y\n",
    "    \n",
    "    regularization_term = lambda_ *  np.sum(np.square(thetas[1:]))\n",
    "    linear_reg_term = np.sum(np.square(errors))\n",
    "    cost = linear_reg_term + regularization_term\n",
    "    \n",
    "    return cost\n",
    "\n",
    "def ridge_gradient_descent(X_b, y, thetas, learning_rate, num_iterations, lambda_):\n",
    "    \"\"\" Compute Ridge Gradient Descent for a finite number of iterations\n",
    "        Params: X_b data (with 1st col of one's), true target values y, \n",
    "               coefficient array (thetas), learning rate to update thetas\n",
    "               on each iteration, # of iterations, and weight of ridge penalization (lambda_)\n",
    "        Returns: optimal theta array and cost_history\n",
    "        Descr: compute current predictions, errors and gradients for the given data;\n",
    "               update theta array from current gradient and save cost;\n",
    "               repeat these steps for the number of iterations provided\n",
    "    \"\"\"\n",
    "    n = len(y)\n",
    "    cost_history = []\n",
    "    \n",
    "    for i in range(num_iterations):\n",
    "        # X_b * theta\n",
    "        predictions = np.dot(X_b, thetas)\n",
    "        \n",
    "        # Current error\n",
    "        errors =  predictions - y\n",
    "        \n",
    "        # Optimal solutions for each coefficient \n",
    "        gradients = ((2 / n) * np.dot(X_b.T, errors)) + (2 * lambda_ * thetas)\n",
    "        \n",
    "        # Update coefficients\n",
    "        thetas -= learning_rate * gradients\n",
    "        #print(\"thetas: \",thetas)\n",
    "        \n",
    "        # Conpute and keep track of costs\n",
    "        cost = ridge_cost(X_b, y, thetas, lambda_)\n",
    "        cost_history.append(cost)\n",
    "  \n",
    "    return thetas, cost_history"
   ]
  },
  {
   "cell_type": "code",
   "execution_count": 19,
   "id": "f18fa5a1",
   "metadata": {},
   "outputs": [],
   "source": [
    "thetas = np.array([0] * 12, dtype='float')"
   ]
  },
  {
   "cell_type": "code",
   "execution_count": 20,
   "id": "a2da37ea",
   "metadata": {
    "scrolled": true
   },
   "outputs": [
    {
     "name": "stdout",
     "output_type": "stream",
     "text": [
      "[0.236, 0.267, 0.357, 0.185, 0.339, 0.115, 0.126, 0.167, -0.104, -0.085, -0.016, -0.012]\n"
     ]
    }
   ],
   "source": [
    "optimal_thetas, cost_history = ridge_gradient_descent(X_train_scaled, y_train, thetas, 0.01, 1000, 0.01)\n",
    "optimal_thetas = [round(i, 3) for i in thetas]\n",
    "print(optimal_thetas)"
   ]
  },
  {
   "cell_type": "code",
   "execution_count": 21,
   "id": "6435953c",
   "metadata": {},
   "outputs": [
    {
     "name": "stdout",
     "output_type": "stream",
     "text": [
      "       Features  Coefficient Estimates\n",
      "0       PT08_S1               0.310530\n",
      "1          NMHC               0.181554\n",
      "2       Benzene               1.008009\n",
      "3       PT08_S2              -0.167206\n",
      "4           NOx               0.385260\n",
      "5       PT08_S3              -0.005623\n",
      "6           NO2               0.142084\n",
      "7       PT08_S4              -0.205608\n",
      "8       PT08_S5              -0.219892\n",
      "9          Temp              -0.232035\n",
      "10  RelHumidity              -0.156241\n",
      "11  AbsHumidity               0.155999\n"
     ]
    }
   ],
   "source": [
    "print(ridge_coef_df)"
   ]
  },
  {
   "cell_type": "code",
   "execution_count": 22,
   "id": "a4ad6248",
   "metadata": {},
   "outputs": [
    {
     "name": "stdout",
     "output_type": "stream",
     "text": [
      "3690.2946004956016\n"
     ]
    },
    {
     "data": {
      "image/png": "[encoded data removed]",
      "text/plain": [
       "<Figure size 640x480 with 1 Axes>"
      ]
     },
     "metadata": {},
     "output_type": "display_data"
    }
   ],
   "source": [
    "import matplotlib.pyplot as plt\n",
    "import seaborn as sns\n",
    "\n",
    "print(cost_history[-1])\n",
    "\n",
    "sns.set(font_scale=1.2)\n",
    "plt.plot(cost_history)\n",
    "plt.title('Cost History')\n",
    "plt.ylabel('Cost')\n",
    "plt.xlabel('Number of Iteration')\n",
    "plt.show()"
   ]
  }
 ],
 "metadata": {
  "kernelspec": {
   "display_name": "Python 3 (ipykernel)",
   "language": "python",
   "name": "python3"
  },
  "language_info": {
   "codemirror_mode": {
    "name": "ipython",
    "version": 3
   },
   "file_extension": ".py",
   "mimetype": "text/x-python",
   "name": "python",
   "nbconvert_exporter": "python",
   "pygments_lexer": "ipython3",
   "version": "3.10.13"
  }
 },
 "nbformat": 4,
 "nbformat_minor": 5
}

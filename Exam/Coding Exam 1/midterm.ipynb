{
 "cells": [
  {
   "cell_type": "markdown",
   "id": "0fce005f",
   "metadata": {},
   "source": [
    "## DS4400 Coding Exam\n",
    "\n",
    "This is the coding exam for DS4400. You have 100 minutes in the lecture. Please write down all the codes and in the Code chuck and written answers in the markdown chuck. Add any chuck if you need. Submit the exam as the homework, with both python and pdf file. The exam is open-book, open notes. Please raise your hand if you have any questions. "
   ]
  },
  {
   "cell_type": "markdown",
   "id": "8508c28c",
   "metadata": {},
   "source": [
    "#### Question 1: Data analysis\n",
    "In the following question, you will need to analysis a simulated data. Please answer each question below the instructions. "
   ]
  },
  {
   "cell_type": "code",
   "execution_count": 16,
   "id": "b8d3c248",
   "metadata": {},
   "outputs": [],
   "source": [
    "import numpy as np\n",
    "import pandas as pd\n",
    "\n",
    "# Set a random seed for reproducibility\n",
    "np.random.seed(4400)\n",
    "\n",
    "# Number of samples\n",
    "num_samples = 1000\n",
    "\n",
    "# Create 20 random variables\n",
    "X = pd.DataFrame()\n",
    "for i in np.arange(1, 21):\n",
    "    variable_name = f\"Var{i}\"\n",
    "    X[variable_name] = np.random.rand(1000)\n",
    "\n",
    "# Create a target variable based on some combination of the 20 variables\n",
    "y = (\n",
    "    2 * X[\"Var1\"]\n",
    "    + 0.5 * X[\"Var5\"]\n",
    "    - 1 * X[\"Var10\"]\n",
    "    + np.random.normal(0, 0.5, num_samples)  # Add some noise\n",
    ")"
   ]
  },
  {
   "cell_type": "markdown",
   "id": "a1ced033",
   "metadata": {},
   "source": [
    "1. Split the data into training and test data. The proportion of train data should be 70%. "
   ]
  },
  {
   "cell_type": "code",
   "execution_count": 17,
   "id": "0b11274f",
   "metadata": {},
   "outputs": [],
   "source": [
    "import pandas as pd\n",
    "import numpy as np\n",
    "import sklearn\n",
    "from sklearn.linear_model import LinearRegression\n",
    "from sklearn.metrics import mean_squared_error\n",
    "from sklearn.model_selection import train_test_split\n",
    "from sklearn.preprocessing import StandardScaler\n",
    "\n",
    "X_train, X_test, y_train, y_test = train_test_split(X, y, test_size=0.3)"
   ]
  },
  {
   "cell_type": "markdown",
   "id": "01306908",
   "metadata": {},
   "source": [
    "2. Fit the model with a linear regression using all the features, report the coefficient table, intercept and MSE. "
   ]
  },
  {
   "cell_type": "code",
   "execution_count": 18,
   "id": "5171226f",
   "metadata": {},
   "outputs": [
    {
     "name": "stdout",
     "output_type": "stream",
     "text": [
      "The MSE for this linear model is 0.2581677821622019\n",
      "The coefficient table is: \n",
      " 0     2.044796\n",
      "1    -0.065827\n",
      "2    -0.071376\n",
      "3     0.054124\n",
      "4     0.441769\n",
      "5     0.050972\n",
      "6    -0.057804\n",
      "7    -0.029059\n",
      "8    -0.131706\n",
      "9    -1.050051\n",
      "10    0.001533\n",
      "11    0.071195\n",
      "12    0.004165\n",
      "13   -0.023910\n",
      "14   -0.018469\n",
      "15   -0.065016\n",
      "16    0.014352\n",
      "17    0.084866\n",
      "18    0.079323\n",
      "19    0.072036\n",
      "dtype: float64\n",
      "The intercept coefficient is 0.057\n"
     ]
    }
   ],
   "source": [
    "lm = LinearRegression()\n",
    "lm.fit(X_train, y_train)\n",
    "y_linear = lm.predict(X_test)\n",
    "MSE_linear = mean_squared_error(y_test, y_linear)\n",
    "print(f\"The MSE for this linear model is {MSE_linear}\")\n",
    "\n",
    "coef_df = pd.Series(lm.coef_)\n",
    "print(\"The coefficient table is: \\n\", coef_df)\n",
    "\n",
    "print(\"The intercept coefficient is %.3f\" %lm.intercept_)"
   ]
  },
  {
   "cell_type": "markdown",
   "id": "c359fcdb",
   "metadata": {},
   "source": [
    "3. Fit the model with a polynomial regression with degree 2, report the MSE. Is it necessary to use polynomial regression in this case?"
   ]
  },
  {
   "cell_type": "code",
   "execution_count": 19,
   "id": "35b96567",
   "metadata": {},
   "outputs": [
    {
     "name": "stdout",
     "output_type": "stream",
     "text": [
      "The MSE for this quadratic model is 0.4008640677627225\n"
     ]
    }
   ],
   "source": [
    "from sklearn.preprocessing import PolynomialFeatures\n",
    "\n",
    "deg = 2\n",
    "poly_features = PolynomialFeatures(degree=deg)\n",
    "\n",
    "X_poly_train = poly_features.fit_transform(X_train)\n",
    "X_poly_test = poly_features.fit_transform(X_test)\n",
    "\n",
    "poly_model = LinearRegression()\n",
    "poly_model.fit(X_poly_train, y_train)\n",
    "\n",
    "y_poly_fit = poly_model.predict(X_poly_test)\n",
    "\n",
    "MSE_squared = mean_squared_error(y_test, y_poly_fit)\n",
    "print(f\"The MSE for this quadratic model is {MSE_squared}\")"
   ]
  },
  {
   "cell_type": "markdown",
   "id": "d37fcbb6",
   "metadata": {},
   "source": [
    "We observe the MSE for this model is higher than the MSE for the linear model. This should hint that a quadratic model is not a got fit for our data. Moreover, we see that our target variable y is defined as y = 2X_1 + 0.5X_5 - X_10 which is a linear equation, further indicating polynomial regression is not needed in this case."
   ]
  },
  {
   "cell_type": "markdown",
   "id": "4612c560",
   "metadata": {},
   "source": [
    "4. Fit the model with a Lasso regression, tune the parameter for the penalty parameter $\\alpha$. Report the best $\\alpha$, MSE and which variables are left in the model in the end. "
   ]
  },
  {
   "cell_type": "code",
   "execution_count": 20,
   "id": "ecdcabe7",
   "metadata": {},
   "outputs": [
    {
     "name": "stdout",
     "output_type": "stream",
     "text": [
      "The tuned alpha value is 0.01\n",
      "The MSE for a Lasso model is 0.251809272361641\n"
     ]
    }
   ],
   "source": [
    "from sklearn.preprocessing import StandardScaler\n",
    "from sklearn.model_selection import GridSearchCV\n",
    "from sklearn.linear_model import Lasso\n",
    "\n",
    "scaler = StandardScaler()\n",
    "X_train_scaled = scaler.fit_transform(X_train)\n",
    "X_test_scaled = scaler.fit_transform(X_test)\n",
    "\n",
    "\n",
    "# Tuning alpha for Lasso\n",
    "alphas = [0.001, 0.01, 0.1, 1, 10, 100]\n",
    "param_grid = {'alpha': alphas}\n",
    "\n",
    "# perform gridsearch\n",
    "lasso_model = Lasso()\n",
    "grid_search = GridSearchCV(lasso_model, param_grid, cv=10, scoring='neg_mean_squared_error')\n",
    "grid_search.fit(X_train_scaled, y_train)\n",
    "\n",
    "best_alpha = grid_search.best_params_['alpha']\n",
    "print(f\"The tuned alpha value is {best_alpha}\")\n",
    "\n",
    "# Optimized Lasso\n",
    "alpha = best_alpha\n",
    "\n",
    "lasso_model = Lasso(alpha=alpha)\n",
    "lasso_model.fit(X_train_scaled, y_train)\n",
    "\n",
    "y_pred_lasso = lasso_model.predict(X_test_scaled)\n",
    "\n",
    "MSE_Lasso = mean_squared_error(y_test, y_pred_lasso)\n",
    "print(f\"The MSE for a Lasso model is {MSE_Lasso}\")"
   ]
  },
  {
   "cell_type": "code",
   "execution_count": 21,
   "id": "7033c8d7",
   "metadata": {},
   "outputs": [
    {
     "name": "stdout",
     "output_type": "stream",
     "text": [
      "   Features  Coefficient Estimates\n",
      "0      Var1               0.576660\n",
      "1      Var2              -0.009742\n",
      "2      Var3              -0.010318\n",
      "3      Var4               0.003577\n",
      "4      Var5               0.118299\n",
      "5      Var6               0.005104\n",
      "6      Var7              -0.003217\n",
      "7      Var8              -0.000000\n",
      "8      Var9              -0.030037\n",
      "9     Var10              -0.288913\n",
      "10    Var11               0.000000\n",
      "11    Var12               0.011492\n",
      "12    Var13              -0.000000\n",
      "13    Var14              -0.000000\n",
      "14    Var15              -0.000000\n",
      "15    Var16              -0.010187\n",
      "16    Var17              -0.000000\n",
      "17    Var18               0.010643\n",
      "18    Var19               0.009741\n",
      "19    Var20               0.011644\n"
     ]
    }
   ],
   "source": [
    "lasso_coef_df = pd.DataFrame(X.columns)\n",
    "lasso_coef_df.columns = ['Features']\n",
    "lasso_coef_df['Coefficient Estimates'] = pd.Series(lasso_model.coef_)\n",
    "coef_bool = lasso_coef_df['Coefficient Estimates'] != 0\n",
    "# lasso_coef_df['Coefficient Estimates'] = lasso_coef_df['Coefficient Estimates'][coef_bool]\n",
    "print(lasso_coef_df)"
   ]
  },
  {
   "cell_type": "code",
   "execution_count": 22,
   "id": "5e9009b4",
   "metadata": {},
   "outputs": [
    {
     "name": "stdout",
     "output_type": "stream",
     "text": [
      "All the variables except Var8, Var11, Var13, Var14, Var15, and Var17 are left at the end of model.\n"
     ]
    }
   ],
   "source": [
    "print(\"All the variables except Var8, Var11, Var13, Var14, Var15, and Var17 are left at the end of model.\")"
   ]
  },
  {
   "cell_type": "markdown",
   "id": "8e65e125",
   "metadata": {},
   "source": [
    "5. Define a new target variable $y_1$ such that $y_1$ only contains all the positive values in the $y$. Process $X$ as well. Fit the model with appropriate GLM model (not Gaussian). Report the MSE and can we compare the MSE with previous questions? Hint: it is a continous distribution. "
   ]
  },
  {
   "cell_type": "code",
   "execution_count": 23,
   "id": "c6553dce",
   "metadata": {},
   "outputs": [
    {
     "name": "stdout",
     "output_type": "stream",
     "text": [
      "MSE for Gamma is:  0.14865729110851264\n"
     ]
    },
    {
     "name": "stderr",
     "output_type": "stream",
     "text": [
      "C:\\Users\\hafid\\AppData\\Roaming\\Python\\Python310\\site-packages\\statsmodels\\genmod\\families\\links.py:13: FutureWarning: The log link alias is deprecated. Use Log instead. The log link alias will be removed after the 0.15.0 release.\n",
      "  warnings.warn(\n"
     ]
    }
   ],
   "source": [
    "y_1 = y[y > 0]\n",
    "# print(len(y_1))\n",
    "X['y_1'] = y_1\n",
    "X.dropna(subset=['y_1'], inplace=True)\n",
    "# print(X)\n",
    "\n",
    "# Gamma model\n",
    "import statsmodels.api as sm\n",
    "\n",
    "X_train, X_test, y1_train, y1_test = train_test_split(X, y_1, test_size = 0.3)\n",
    "\n",
    "gamma_model = sm.GLM(y1_train, X_train, family = \n",
    "                     sm.families.Gamma(link = sm.families.links.log()))\n",
    "gamma_results = gamma_model.fit()\n",
    "y1_pred_gamma = gamma_results.predict(X_test)\n",
    "mse_gamma = mean_squared_error(y1_test, y1_pred_gamma)\n",
    "\n",
    "print(\"MSE for Gamma is: \", mse_gamma)"
   ]
  },
  {
   "cell_type": "markdown",
   "id": "044da8c4",
   "metadata": {},
   "source": [
    "We choose the Gamma model for this distribution since our target value has continous positive values.\n",
    "We also observe that the MSE for this model is ~0.149 which is substantially smaller than our previous best model (Linear Regression) which had an MSE of ~0.258. This indicates the Gamma model is a better fit for our data."
   ]
  },
  {
   "cell_type": "markdown",
   "id": "7cb1b41b",
   "metadata": {},
   "source": [
    "6. Define a new target variable $y_2$ such that $y_2$ is a binary categorical variable. If $y$ is larger than 1, then $y_2$ is \"group1\", otherwise it is \"group2\". Fit the $y_2$ and $X$ with a logistic regression. Print the summary table with .summary(), and interpret the coefficient for variable 1.  "
   ]
  },
  {
   "cell_type": "code",
   "execution_count": 8,
   "id": "d2274db8",
   "metadata": {},
   "outputs": [
    {
     "name": "stdout",
     "output_type": "stream",
     "text": [
      "MSE for Logistic Regression is:  0.03291886887997125\n",
      "                 Generalized Linear Model Regression Results                  \n",
      "==============================================================================\n",
      "Dep. Variable:                      y   No. Observations:                  550\n",
      "Model:                            GLM   Df Residuals:                      529\n",
      "Model Family:                Binomial   Df Model:                           20\n",
      "Link Function:                  Logit   Scale:                          1.0000\n",
      "Method:                          IRLS   Log-Likelihood:                -68.144\n",
      "Date:                Mon, 16 Oct 2023   Deviance:                       136.29\n",
      "Time:                        13:10:07   Pearson chi2:                     216.\n",
      "No. Iterations:                     9   Pseudo R-squ. (CS):             0.6792\n",
      "Covariance Type:            nonrobust                                         \n",
      "==============================================================================\n",
      "                 coef    std err          z      P>|z|      [0.025      0.975]\n",
      "------------------------------------------------------------------------------\n",
      "Var1          -1.2345      1.353     -0.913      0.361      -3.885       1.416\n",
      "Var2          -1.8641      0.828     -2.250      0.024      -3.488      -0.241\n",
      "Var3          -0.9241      0.833     -1.110      0.267      -2.556       0.708\n",
      "Var4          -1.5208      0.804     -1.891      0.059      -3.097       0.055\n",
      "Var5          -1.4012      0.829     -1.691      0.091      -3.025       0.223\n",
      "Var6          -1.5175      0.773     -1.963      0.050      -3.032      -0.003\n",
      "Var7          -0.1799      0.845     -0.213      0.831      -1.837       1.477\n",
      "Var8          -2.0046      0.843     -2.378      0.017      -3.657      -0.352\n",
      "Var9          -0.9540      0.825     -1.157      0.247      -2.570       0.662\n",
      "Var10         -1.2165      0.912     -1.334      0.182      -3.003       0.570\n",
      "Var11         -1.1378      0.849     -1.340      0.180      -2.802       0.526\n",
      "Var12         -2.5867      0.902     -2.866      0.004      -4.356      -0.818\n",
      "Var13         -0.1836      0.813     -0.226      0.821      -1.777       1.410\n",
      "Var14         -0.7472      0.861     -0.867      0.386      -2.435       0.941\n",
      "Var15         -1.9367      0.789     -2.454      0.014      -3.483      -0.390\n",
      "Var16         -1.3900      0.809     -1.719      0.086      -2.975       0.195\n",
      "Var17         -1.5836      0.829     -1.911      0.056      -3.208       0.041\n",
      "Var18          0.0757      0.828      0.091      0.927      -1.548       1.699\n",
      "Var19         -2.4758      0.835     -2.964      0.003      -4.113      -0.839\n",
      "Var20         -1.4108      0.834     -1.692      0.091      -3.045       0.223\n",
      "y_1           13.2114      1.742      7.584      0.000       9.797      16.626\n",
      "==============================================================================\n"
     ]
    }
   ],
   "source": [
    "y2 = (y_1 > 1).astype(int)\n",
    "# print(y_1)\n",
    "# print(y2)\n",
    "\n",
    "\n",
    "X_train, X_test, y2_train, y2_test = train_test_split(X, y2, test_size = 0.3)\n",
    "\n",
    "model = sm.GLM(y2_train, X_train, family = sm.families.Binomial())\n",
    "results = model.fit()\n",
    "y2_pred = results.predict(X_test)\n",
    "MSE = mean_squared_error(y2_test, y2_pred)\n",
    "print(\"MSE for Logistic Regression is: \",MSE)\n",
    "\n",
    "print(results.summary())"
   ]
  },
  {
   "cell_type": "markdown",
   "id": "4a295474",
   "metadata": {},
   "source": [
    "The Var1 coef. represents the change in the log-odds of y being larger than 1 for a one-unit change of Var1. Since the Var1 coef. is negative, it means that as Var1 increases, the log-odds of y being larger than 1 decrease. In simpler terms, an increase in Var1 is associated with a decrease in the probability of the event happening."
   ]
  },
  {
   "cell_type": "markdown",
   "id": "bc51d310",
   "metadata": {},
   "source": [
    "#### Question 2: Implement Gradient descend for Polynomial Regression\n",
    "\n",
    "Implement gradient descend method for the polynomial regression. Requirement: \n",
    "1. Write the method as a function, which is given here. Notice that it takes an input \"degree\" (and any other necessary inputs) so that we can change the degree of the polynomial. \n",
    "2. Output the cost history as well as the coefficient estimates. No need to print it or make the figures. As long as it is one of the output. \n",
    "3. Verify your function with the data in Question 1 (You may need to copy/paste and run the answer in Question 1-1 before you run the verification). No need to compare your coefficients to the ones in question 1. This step is only to make sure your functions work. You can set the degree as 2 in the verification. \n",
    "\n",
    "Hint: \n",
    "1. Don't overthinking the question. What is the difference between linear regression and polynomial regression?\n",
    "2. You may need two functions here. One for pre-processing the data, while the other one for gradient desent. You can add more if you need. Like to add another one for the cost function. \n",
    "3. When initializing the theta, think about how many coefficients you may need?"
   ]
  },
  {
   "cell_type": "code",
   "execution_count": 54,
   "id": "1aa9662f",
   "metadata": {},
   "outputs": [],
   "source": [
    "from sklearn.preprocessing import PolynomialFeatures\n",
    "\n",
    "def poly_function(degree, X):\n",
    "    poly_features = PolynomialFeatures(degree=degree)\n",
    "    X_poly = poly_features.fit_transform(X)\n",
    "\n",
    "    return X_poly\n",
    "\n",
    "def compute_cost(predictions, y):\n",
    "    cost = np.mean(np.square(predictions - y))\n",
    "    \n",
    "    return cost\n",
    "\n",
    "def poly_gradient_descent(X, y, num_iterations, learning_rate, degree):\n",
    "    n = len(y)\n",
    "    cost_history = np.zeros(num_iterations)\n",
    "    X_poly = poly_function(degree, X)\n",
    "    \n",
    "     # Initialize theta with zeros\n",
    "    total_features = X_poly.shape[1]\n",
    "    theta = np.zeros(total_features)\n",
    "    \n",
    "    for i in range(num_iterations):\n",
    "        predictions = X_poly.dot(theta)\n",
    "        errors = predictions - y\n",
    "        gradient = (2/n) * (errors.T.dot(X_poly))\n",
    "        theta -= learning_rate * gradient.T\n",
    "        cost_history[i] = compute_cost(predictions, y)\n",
    "        \n",
    "    return theta, cost_history"
   ]
  },
  {
   "cell_type": "code",
   "execution_count": 55,
   "id": "41a02cdd",
   "metadata": {},
   "outputs": [],
   "source": [
    "# Set a random seed for reproducibility\n",
    "np.random.seed(4400)\n",
    "\n",
    "# Number of samples\n",
    "num_samples = 1000\n",
    "\n",
    "# Create 20 random variables\n",
    "X = pd.DataFrame()\n",
    "for i in np.arange(1, 21):\n",
    "    variable_name = f\"Var{i}\"\n",
    "    X[variable_name] = np.random.rand(1000)\n",
    "\n",
    "# Create a target variable based on some combination of the 20 variables\n",
    "y = (\n",
    "    2 * X[\"Var1\"]\n",
    "    + 0.5 * X[\"Var5\"]\n",
    "    - 1 * X[\"Var10\"]\n",
    "    + np.random.normal(0, 0.5, num_samples)  # Add some noise\n",
    ")"
   ]
  },
  {
   "cell_type": "code",
   "execution_count": 56,
   "id": "9cc9e1b7",
   "metadata": {},
   "outputs": [
    {
     "name": "stdout",
     "output_type": "stream",
     "text": [
      "Final theta:\n",
      "[ 5.51012930e-02  2.19402395e-01  7.54772733e-03  4.39097686e-03\n",
      "  1.54345869e-02  5.99654282e-02  2.16342738e-02  2.14145978e-02\n",
      "  1.82570240e-02  1.11236336e-02 -9.27284254e-02  1.37268561e-02\n",
      "  2.56903398e-02  1.90417967e-02  1.92172197e-02  6.59892462e-03\n",
      "  5.81063274e-03  1.54610366e-03  1.94559797e-02  1.59776506e-02\n",
      "  2.43785499e-02  2.04630112e-01  1.02117620e-01  9.80080893e-02\n",
      "  1.10977194e-01  1.21967419e-01  1.11017522e-01  1.07218023e-01\n",
      "  1.05181820e-01  9.79264334e-02  5.45423069e-02  1.02988265e-01\n",
      "  1.03661012e-01  1.03377661e-01  1.03133234e-01  9.96068928e-02\n",
      "  9.86799275e-02  9.65423338e-02  1.07522489e-01  1.06283909e-01\n",
      "  1.08754406e-01 -6.82469641e-04 -6.62281829e-03 -5.21318809e-03\n",
      "  2.01186738e-02  2.97770210e-03 -2.80724870e-04 -4.38937943e-03\n",
      " -1.93188137e-05 -5.73304771e-02 -2.04836693e-03 -4.53715223e-03\n",
      "  1.65117346e-03 -5.38199766e-03 -6.47407617e-03 -1.07233501e-02\n",
      " -5.28876122e-03  3.80770659e-04 -4.97053086e-03  1.28335941e-03\n",
      " -7.93874049e-03 -3.72558771e-03  1.49740707e-02  2.26855693e-03\n",
      "  7.54521129e-03 -7.40632943e-03 -4.26341179e-03 -5.14915566e-02\n",
      " -2.24350142e-03  2.23391467e-03  2.93767583e-04  4.28131075e-03\n",
      " -9.06980185e-03 -1.07617544e-02 -9.88770736e-03  2.93513568e-03\n",
      "  3.96370561e-04  1.00404179e-03  5.39090454e-03  2.08874680e-02\n",
      " -2.78397319e-03  6.84450285e-04 -8.82087143e-04 -5.09852049e-03\n",
      " -5.68777943e-02 -2.28038527e-03 -1.62164893e-03  7.34387468e-03\n",
      "  8.11357957e-03 -3.23601694e-03  1.40927110e-03  8.11307103e-04\n",
      "  4.86129443e-04  5.74778719e-03  9.45780738e-03  4.74003504e-02\n",
      "  2.96324267e-02  2.33913292e-02  2.71982255e-02  2.33620306e-02\n",
      " -2.24641485e-02  2.29292486e-02  2.59675734e-02  2.50834845e-02\n",
      "  2.65593355e-02  1.89541396e-02  1.79488318e-02  1.79195985e-02\n",
      "  2.55496395e-02  2.20108183e-02  2.61442334e-02  1.53709420e-02\n",
      "  4.84104515e-03  1.12560190e-02 -7.25566921e-04 -4.98355602e-02\n",
      "  1.05922646e-02  7.80042220e-03  6.19742015e-03  3.94842372e-03\n",
      "  2.35843412e-03 -7.29885828e-04 -5.42174854e-03  1.00462020e-02\n",
      "  4.29112817e-03  5.88847438e-03  1.56289050e-02  9.50387906e-03\n",
      "  1.23219442e-03 -5.24043620e-02  5.88475612e-03  1.46754896e-02\n",
      "  1.22205983e-02  5.03830796e-03 -1.02665816e-03  5.69323758e-04\n",
      "  2.26491066e-03  3.98642453e-03  8.03264992e-03  6.80289021e-03\n",
      "  5.50191626e-03  5.66729262e-04 -5.38535826e-02 -2.39796452e-03\n",
      "  1.67776409e-03  3.12655735e-03 -1.85367949e-03 -3.97493844e-03\n",
      "  2.24664831e-03 -1.21095142e-02  7.52067353e-03 -1.36467439e-03\n",
      "  8.23569686e-03  2.21995441e-03 -5.79946416e-02 -1.24588453e-03\n",
      "  2.57484240e-03 -3.08975210e-04  8.82988932e-03 -8.23766325e-03\n",
      " -5.75442363e-03 -9.93823453e-03 -6.68436898e-04 -6.26666984e-03\n",
      "  6.24163248e-03 -1.01056760e-01 -4.65760321e-02 -4.57290790e-02\n",
      " -5.13275742e-02 -5.02504598e-02 -6.10788004e-02 -5.60947217e-02\n",
      " -5.99274739e-02 -5.22106697e-02 -5.46880886e-02 -4.39748266e-02\n",
      "  4.20777953e-05 -2.42160629e-03  7.49456028e-04  1.43316326e-02\n",
      " -2.64288674e-03 -4.54942649e-03 -1.11688501e-02  8.05288733e-03\n",
      "  1.57450891e-03  2.94485631e-03  1.93660432e-02  8.24211008e-03\n",
      "  2.59651396e-03  4.63844631e-03 -1.97597322e-03 -5.09216864e-03\n",
      "  1.06073089e-02  6.88161020e-03  1.16054469e-02  9.37888008e-03\n",
      "  7.45263336e-03 -3.23355832e-03 -3.17488002e-03 -3.12314824e-03\n",
      "  2.42941301e-04  5.63219183e-03  1.43850617e-02  8.02032580e-04\n",
      "  5.08456218e-03 -3.40081915e-03  1.96127311e-03  1.13949798e-02\n",
      "  4.47582496e-03  6.75727468e-03 -3.62938401e-05 -1.05646660e-02\n",
      " -9.89052717e-03 -5.84062708e-03  5.47563993e-03  2.12545230e-03\n",
      " -1.14564223e-02 -1.18325080e-02  1.04197204e-03 -5.83374884e-03\n",
      "  2.59780082e-04 -1.06197707e-02 -3.30101589e-03 -2.82309904e-03\n",
      "  9.05715913e-03  1.10806866e-02  2.58071707e-03  8.63030000e-03\n",
      "  3.67963553e-03  3.89601062e-03  1.06592640e-02]\n",
      "Cost History:\n",
      "[1.22403441 0.86801996 0.74341071 0.69576765 0.67381696 0.66053359\n",
      " 0.65026242 0.64112299 0.63248802 0.62414635 0.61602499 0.60809691\n",
      " 0.60035041 0.59277893 0.58537767 0.57814249 0.57106952 0.56415504\n",
      " 0.55739544 0.55078719 0.54432685 0.53801106 0.53183652 0.52580004\n",
      " 0.51989848 0.51412878 0.50848793 0.50297303 0.4975812  0.49230967\n",
      " 0.48715569 0.48211662 0.47718984 0.47237281 0.46766304 0.46305811\n",
      " 0.45855564 0.45415332 0.44984888 0.4456401  0.44152482 0.43750094\n",
      " 0.43356637 0.42971912 0.4259572  0.42227868 0.4186817  0.41516439\n",
      " 0.41172498 0.4083617  0.40507283 0.4018567  0.39871167 0.39563614\n",
      " 0.39262854 0.38968734 0.38681105 0.38399821 0.38124739 0.3785572\n",
      " 0.37592626 0.37335326 0.37083689 0.36837588 0.36596898 0.36361498\n",
      " 0.3613127  0.35906096 0.35685865 0.35470464 0.35259786 0.35053726\n",
      " 0.34852178 0.34655043 0.34462222 0.34273617 0.34089136 0.33908685\n",
      " 0.33732174 0.33559515 0.33390622 0.33225412 0.33063801 0.32905709\n",
      " 0.32751058 0.32599772 0.32451774 0.32306991 0.32165353 0.32026788\n",
      " 0.31891229 0.31758608 0.3162886  0.3150192  0.31377728 0.3125622\n",
      " 0.31137338 0.31021023 0.30907219 0.30795869]\n"
     ]
    }
   ],
   "source": [
    "degree = 2\n",
    "\n",
    "# Hyperparameters\n",
    "learning_rate = 0.01\n",
    "num_iterations = 100\n",
    "\n",
    "# Run gradient descent\n",
    "theta_final, cost_history = poly_gradient_descent(X, y, num_iterations, learning_rate, degree)\n",
    "\n",
    "# Print the final parameters (theta) after training\n",
    "print(\"Final theta:\")\n",
    "print(theta_final)\n",
    "\n",
    "print(\"Cost History:\")\n",
    "print(cost_history)"
   ]
  },
  {
   "cell_type": "markdown",
   "id": "88b738e7",
   "metadata": {},
   "source": [
    "#### Question 3: Simulation study"
   ]
  },
  {
   "cell_type": "markdown",
   "id": "26af4348",
   "metadata": {},
   "source": [
    "Following is a simulation study. In the second code chuck, please correctly label the xlabel and ylabel for the plot. Also explain what this code is trying to do and what you have learned from the generated figure. \n",
    "\n",
    "Hint: in the simulation data, there are 200 observations and it is fixed for each trial. After spliting the training and testing data, each one will have 100 observations. "
   ]
  },
  {
   "cell_type": "code",
   "execution_count": 24,
   "id": "ddef77e4",
   "metadata": {},
   "outputs": [],
   "source": [
    "from sklearn.linear_model import LinearRegression\n",
    "from sklearn.metrics import mean_squared_error\n",
    "from sklearn.model_selection import train_test_split\n",
    "import matplotlib.pyplot as plt\n",
    "import pandas as pd\n",
    "import numpy as np\n",
    "\n",
    "np.random.seed(83)\n",
    "A = np.arange(5,101,1)\n",
    "B = []\n",
    "\n",
    "for p in A:\n",
    "    \n",
    "    X = pd.DataFrame()\n",
    "    for i in np.arange(1, p+1):\n",
    "        variable_name = f\"Var{i}\"\n",
    "        X[variable_name] = np.random.rand(200)\n",
    "\n",
    "    y = 2 * X[\"Var1\"] - 0.5 * X[\"Var5\"] + np.random.normal(0, 0.5, 200)\n",
    "    X_train, X_test, y_train, y_test = train_test_split(X, y, \n",
    "                                                        test_size=0.5, \n",
    "                                                        random_state=83)\n",
    "    \n",
    "    lm = LinearRegression()\n",
    "    lm.fit(X_train, y_train)\n",
    "    y_pred = lm.predict(X_test)\n",
    "    value = mean_squared_error(y_test, y_pred)\n",
    "    B.append(value)"
   ]
  },
  {
   "cell_type": "code",
   "execution_count": 25,
   "id": "4654def2",
   "metadata": {},
   "outputs": [
    {
     "data": {
      "image/png": "[encoded data removed]",
      "text/plain": [
       "<Figure size 640x480 with 1 Axes>"
      ]
     },
     "metadata": {},
     "output_type": "display_data"
    }
   ],
   "source": [
    "plt.plot(A, B)\n",
    "plt.xlabel(\"Number of Predictor Variables\")\n",
    "plt.ylabel(\"Mean Squared Error (MSE)\")\n",
    "plt.show()"
   ]
  },
  {
   "cell_type": "markdown",
   "id": "11911b9e",
   "metadata": {},
   "source": [
    "For each value of 'p' in A (range from 5 to 100 inclusive), a DataFrame 'X' is created with 'p' random predictor variables ('Var1', 'Var2', ..., 'Varp'). The response variable 'y' is generated as a linear combination of 'Var1' and 'Var5' plus some random noise.\n",
    "\n",
    "The data is then split into training and testing sets with 50% test data and 50% train data. A linear regression model is trained using the training set, and a prediction is obtained using the linear model for the testing set. Lastly, the MSE is computed for each value of 'p'.\n",
    "\n",
    "We then plot the MSE values for each 'p' against the number of predictor variables ('Var1', 'Var2', ..., 'Varp').\n",
    "\n",
    "We see that after a certain number of predictor variables, our MSE skyrockets indicating that more predictor variables are not always better. There's a relationship between model complexity (number of features) and prediction accuracy.\n",
    "For this data in particular, we observe lower MSE's when the number of predictor variables is less than 20."
   ]
  }
 ],
 "metadata": {
  "kernelspec": {
   "display_name": "Python 3 (ipykernel)",
   "language": "python",
   "name": "python3"
  },
  "language_info": {
   "codemirror_mode": {
    "name": "ipython",
    "version": 3
   },
   "file_extension": ".py",
   "mimetype": "text/x-python",
   "name": "python",
   "nbconvert_exporter": "python",
   "pygments_lexer": "ipython3",
   "version": "3.10.13"
  }
 },
 "nbformat": 4,
 "nbformat_minor": 5
}
